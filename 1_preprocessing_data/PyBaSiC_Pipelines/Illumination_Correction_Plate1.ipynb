{
 "cells": [
  {
   "cell_type": "markdown",
   "metadata": {},
   "source": [
    "# Illumination Correction of NF1 Images"
   ]
  },
  {
   "cell_type": "markdown",
   "metadata": {},
   "source": [
    "## Import libraries"
   ]
  },
  {
   "cell_type": "code",
   "execution_count": 1,
   "metadata": {},
   "outputs": [],
   "source": [
    "import sys\n",
    "import numpy as np\n",
    "import pathlib\n",
    "from matplotlib import pyplot as plt\n",
    "from pathlib import Path\n",
    "import os\n",
    "import skimage\n",
    "\n",
    "# explicit import to PyBaSiC due to not having package support\n",
    "sys.path.append(\"./PyBaSiC/\")\n",
    "import pybasic"
   ]
  },
  {
   "cell_type": "markdown",
   "metadata": {},
   "source": [
    "## Helper functions to run PyBaSiC illumination correction\n",
    "- Allows for PyBaSiC to be run on any image sets and only need to input the path to the directory with the channel folders and the folder name of the channel that you\n",
    "want to work with."
   ]
  },
  {
   "cell_type": "code",
   "execution_count": 2,
   "metadata": {},
   "outputs": [],
   "source": [
    "def load_pybasic_data(\n",
    "    channels_path: pathlib.Path,\n",
    "    channel: str,\n",
    "    file_extension=\".tif\",\n",
    "    verbosity: bool = True,\n",
    "):\n",
    "    \"\"\"\n",
    "    Load all images from a specified directory in preparation for pybasic illum correction\n",
    "\n",
    "    Parameters:\n",
    "    channels_path (pathlib.Path): path to directory where the all images for each channel are stored\n",
    "    channel (str): The name of the channel (currently one of [\"GFP\", \"RFP\", \"DAPI\"])\n",
    "    file_extension (str): The filename extension of the types of files to search for (default: \".tif\")\n",
    "    verbosity (bool): Prints out information regarding the function running through the images (default: \"True\")\n",
    "\n",
    "    Returns:\n",
    "        channel_images: list of ndarrays of the loaded in images\n",
    "        image_files: list of strings of the paths to each image\n",
    "    \"\"\"\n",
    "    image_files = (\n",
    "        []\n",
    "    )  # List that holds all of the paths to the images in the directory for a specific channel\n",
    "    image_names = (\n",
    "        []\n",
    "    )  # List that holds the names (str) for the images that is used for saving\n",
    "    images = []  # List of numpy arrays for the images that are read in\n",
    "\n",
    "    # This for loop will run through the specified directory, find images for a specific channel (channel name is in the file name metadata),\n",
    "    # save paths to a list, and then save the names to a list after stripping the file_extension\n",
    "    for image_path in channels_path.iterdir():\n",
    "        image_path = str(image_path)\n",
    "        if channel in image_path:\n",
    "            image_files.append(image_path)\n",
    "            if image_path.endswith(file_extension):\n",
    "                image_names.append(image_path.strip(file_extension))\n",
    "\n",
    "    # Sorts the file paths and names into alphabetical order (puts well C at the start)\n",
    "    image_files.sort()\n",
    "    image_names.sort()\n",
    "\n",
    "    # This for loop will run through the paths to the images for the specified channel and load in the images to be used to illumination correction\n",
    "    # This code was sampled from the `load_data` function in PyBaSiC\n",
    "    for i, image_file in enumerate(image_files):\n",
    "        if verbosity and (i % 10 == 0):\n",
    "            print(i, \"/\", len(image_files))\n",
    "        images.append(skimage.io.imread(image_file))\n",
    "\n",
    "    return images, image_names\n",
    "\n",
    "\n",
    "def run_illum_correct(\n",
    "    channels_path: pathlib.Path,\n",
    "    save_path: pathlib.Path,\n",
    "    channel: str,\n",
    "    output_calc: bool = False,\n",
    "):\n",
    "    \"\"\"calculates flatfield, darkfield, performs illumination correction on channel images, coverts to 8-bit and saves images into designated folder\n",
    "\n",
    "    Parameters:\n",
    "        channels_path (pathlib.Path): path to directory where the all images for each channel are stored\n",
    "        save_path (pathlib.Path): path to directory where the corrected images will be saved to\n",
    "        channel (str): name of channel\n",
    "        output_calc (bool): outputs plots of the flatfield and darkfield function for visual review if set to 'True'\n",
    "    \"\"\"\n",
    "    # Loads in the variables returned from \"load_pybasic_data\" function\n",
    "    images, image_names = load_pybasic_data(channels_path, channel)\n",
    "\n",
    "    print(\"Correcting\", {channel})\n",
    "\n",
    "    flatfield, darkfield = pybasic.basic(images, darkfield=True)\n",
    "\n",
    "    # Optional output that displays the plots for the flatfield and darkfield calculations if set to True (default is False)\n",
    "    if output_calc == True:\n",
    "        plt.title(\"Flatfield\")\n",
    "        plt.imshow(flatfield)\n",
    "        plt.colorbar()\n",
    "        plt.show()\n",
    "        plt.title(\"Darkfield\")\n",
    "        plt.imshow(darkfield)\n",
    "        plt.colorbar()\n",
    "        plt.show()\n",
    "\n",
    "    # Run PyBaSiC illumination correction function on loaded in images\n",
    "    channel_images_corrected = pybasic.correct_illumination(\n",
    "        images_list=images,\n",
    "        flatfield=flatfield,\n",
    "        darkfield=darkfield,\n",
    "    )\n",
    "\n",
    "    # Covert illum corrected images to uint8 for downstream analysis\n",
    "    corrected_images_coverted = np.array(channel_images_corrected)\n",
    "    corrected_images_coverted[\n",
    "        corrected_images_coverted < 0\n",
    "    ] = 0  # makes the negatives 0\n",
    "    corrected_images_coverted = corrected_images_coverted / np.max(\n",
    "        corrected_images_coverted\n",
    "    )  # normalize the data to 0 - 1\n",
    "    corrected_images_coverted = 255 * corrected_images_coverted  # Scale by 255\n",
    "    corrected_images = corrected_images_coverted.astype(np.uint8)\n",
    "\n",
    "    for i, image in enumerate(corrected_images):\n",
    "        orig_file = image_names[i]\n",
    "        orig_file_name = orig_file.split(\"/\")[4]\n",
    "        new_filename = pathlib.Path(f\"{save_path}/{orig_file_name}_IllumCorrect.tif\")\n",
    "\n",
    "        # If the image has not been correcrted yet, then the function will save the image. If the image exists, it will skip saving.\n",
    "        if not new_filename.is_file():\n",
    "            skimage.io.imsave(new_filename, image)\n",
    "\n",
    "        else:\n",
    "            print(f\"{new_filename.name} already exists!\")"
   ]
  },
  {
   "cell_type": "markdown",
   "metadata": {},
   "source": [
    "### Implementing helper functions to run illumination correction on each channel for NF1 data"
   ]
  },
  {
   "cell_type": "code",
   "execution_count": 3,
   "metadata": {},
   "outputs": [
    {
     "name": "stdout",
     "output_type": "stream",
     "text": [
      "Correcting DAPI channel images\n",
      "0 / 32\n",
      "10 / 32\n",
      "20 / 32\n",
      "30 / 32\n",
      "Correcting {'DAPI'}\n",
      "reweighting_iter: 1\n"
     ]
    },
    {
     "name": "stderr",
     "output_type": "stream",
     "text": [
      "/home/jenna/NF1_SchwannCell_data/1_preprocessing_data/PyBaSiC_Pipelines/./PyBaSiC/pybasic/tools/inexact_alm_rspca_l1.py:118: RuntimeWarning: divide by zero encountered in double_scalars\n",
      "  B1_offset = np.minimum(B1_offset, B1_uplimit / np.mean(W_idct_hat))\n"
     ]
    },
    {
     "name": "stdout",
     "output_type": "stream",
     "text": [
      "reweighting_iter: 2\n",
      "reweighting_iter: 3\n",
      "reweighting_iter: 4\n",
      "reweighting_iter: 5\n",
      "reweighting_iter: 6\n",
      "reweighting_iter: 7\n",
      "reweighting_iter: 8\n",
      "reweighting_iter: 9\n",
      "reweighting_iter: 10\n",
      "C6_01_1_1_DAPI_001_IllumCorrect.tif already exists!\n",
      "C6_01_1_2_DAPI_001_IllumCorrect.tif already exists!\n",
      "C6_01_1_3_DAPI_001_IllumCorrect.tif already exists!\n",
      "C6_01_1_4_DAPI_001_IllumCorrect.tif already exists!\n",
      "C7_01_1_1_DAPI_001_IllumCorrect.tif already exists!\n",
      "C7_01_1_2_DAPI_001_IllumCorrect.tif already exists!\n",
      "C7_01_1_3_DAPI_001_IllumCorrect.tif already exists!\n",
      "C7_01_1_4_DAPI_001_IllumCorrect.tif already exists!\n",
      "D6_01_1_1_DAPI_001_IllumCorrect.tif already exists!\n",
      "D6_01_1_2_DAPI_001_IllumCorrect.tif already exists!\n",
      "D6_01_1_3_DAPI_001_IllumCorrect.tif already exists!\n",
      "D6_01_1_4_DAPI_001_IllumCorrect.tif already exists!\n",
      "D7_01_1_1_DAPI_001_IllumCorrect.tif already exists!\n",
      "D7_01_1_2_DAPI_001_IllumCorrect.tif already exists!\n",
      "D7_01_1_3_DAPI_001_IllumCorrect.tif already exists!\n",
      "D7_01_1_4_DAPI_001_IllumCorrect.tif already exists!\n",
      "E6_01_1_1_DAPI_001_IllumCorrect.tif already exists!\n",
      "E6_01_1_2_DAPI_001_IllumCorrect.tif already exists!\n",
      "E6_01_1_3_DAPI_001_IllumCorrect.tif already exists!\n",
      "E6_01_1_4_DAPI_001_IllumCorrect.tif already exists!\n",
      "E7_01_1_1_DAPI_001_IllumCorrect.tif already exists!\n",
      "E7_01_1_2_DAPI_001_IllumCorrect.tif already exists!\n",
      "E7_01_1_3_DAPI_001_IllumCorrect.tif already exists!\n",
      "E7_01_1_4_DAPI_001_IllumCorrect.tif already exists!\n",
      "F6_01_1_1_DAPI_001_IllumCorrect.tif already exists!\n",
      "F6_01_1_2_DAPI_001_IllumCorrect.tif already exists!\n",
      "F6_01_1_3_DAPI_001_IllumCorrect.tif already exists!\n",
      "F6_01_1_4_DAPI_001_IllumCorrect.tif already exists!\n",
      "F7_01_1_1_DAPI_001_IllumCorrect.tif already exists!\n",
      "F7_01_1_2_DAPI_001_IllumCorrect.tif already exists!\n",
      "F7_01_1_3_DAPI_001_IllumCorrect.tif already exists!\n",
      "F7_01_1_4_DAPI_001_IllumCorrect.tif already exists!\n",
      "Correcting GFP channel images\n",
      "0 / 32\n",
      "10 / 32\n",
      "20 / 32\n",
      "30 / 32\n",
      "Correcting {'GFP'}\n",
      "reweighting_iter: 1\n",
      "reweighting_iter: 2\n",
      "reweighting_iter: 3\n",
      "reweighting_iter: 4\n",
      "reweighting_iter: 5\n",
      "reweighting_iter: 6\n",
      "reweighting_iter: 7\n",
      "C6_01_2_1_GFP_001_IllumCorrect.tif already exists!\n",
      "C6_01_2_2_GFP_001_IllumCorrect.tif already exists!\n",
      "C6_01_2_3_GFP_001_IllumCorrect.tif already exists!\n",
      "C6_01_2_4_GFP_001_IllumCorrect.tif already exists!\n",
      "C7_01_2_1_GFP_001_IllumCorrect.tif already exists!\n",
      "C7_01_2_2_GFP_001_IllumCorrect.tif already exists!\n",
      "C7_01_2_3_GFP_001_IllumCorrect.tif already exists!\n",
      "C7_01_2_4_GFP_001_IllumCorrect.tif already exists!\n",
      "D6_01_2_1_GFP_001_IllumCorrect.tif already exists!\n",
      "D6_01_2_2_GFP_001_IllumCorrect.tif already exists!\n",
      "D6_01_2_3_GFP_001_IllumCorrect.tif already exists!\n",
      "D6_01_2_4_GFP_001_IllumCorrect.tif already exists!\n",
      "D7_01_2_1_GFP_001_IllumCorrect.tif already exists!\n",
      "D7_01_2_2_GFP_001_IllumCorrect.tif already exists!\n",
      "D7_01_2_3_GFP_001_IllumCorrect.tif already exists!\n",
      "D7_01_2_4_GFP_001_IllumCorrect.tif already exists!\n",
      "E6_01_2_1_GFP_001_IllumCorrect.tif already exists!\n",
      "E6_01_2_2_GFP_001_IllumCorrect.tif already exists!\n",
      "E6_01_2_3_GFP_001_IllumCorrect.tif already exists!\n",
      "E6_01_2_4_GFP_001_IllumCorrect.tif already exists!\n",
      "E7_01_2_1_GFP_001_IllumCorrect.tif already exists!\n",
      "E7_01_2_2_GFP_001_IllumCorrect.tif already exists!\n",
      "E7_01_2_3_GFP_001_IllumCorrect.tif already exists!\n",
      "E7_01_2_4_GFP_001_IllumCorrect.tif already exists!\n",
      "F6_01_2_1_GFP_001_IllumCorrect.tif already exists!\n",
      "F6_01_2_2_GFP_001_IllumCorrect.tif already exists!\n",
      "F6_01_2_3_GFP_001_IllumCorrect.tif already exists!\n",
      "F6_01_2_4_GFP_001_IllumCorrect.tif already exists!\n",
      "F7_01_2_1_GFP_001_IllumCorrect.tif already exists!\n",
      "F7_01_2_2_GFP_001_IllumCorrect.tif already exists!\n",
      "F7_01_2_3_GFP_001_IllumCorrect.tif already exists!\n",
      "F7_01_2_4_GFP_001_IllumCorrect.tif already exists!\n",
      "Correcting RFP channel images\n",
      "0 / 32\n",
      "10 / 32\n",
      "20 / 32\n",
      "30 / 32\n",
      "Correcting {'RFP'}\n",
      "reweighting_iter: 1\n",
      "reweighting_iter: 2\n",
      "reweighting_iter: 3\n",
      "reweighting_iter: 4\n",
      "reweighting_iter: 5\n",
      "reweighting_iter: 6\n",
      "reweighting_iter: 7\n",
      "reweighting_iter: 8\n",
      "reweighting_iter: 9\n",
      "reweighting_iter: 10\n",
      "C6_01_3_1_RFP_001_IllumCorrect.tif already exists!\n",
      "C6_01_3_2_RFP_001_IllumCorrect.tif already exists!\n",
      "C6_01_3_3_RFP_001_IllumCorrect.tif already exists!\n",
      "C6_01_3_4_RFP_001_IllumCorrect.tif already exists!\n",
      "C7_01_3_1_RFP_001_IllumCorrect.tif already exists!\n",
      "C7_01_3_2_RFP_001_IllumCorrect.tif already exists!\n",
      "C7_01_3_3_RFP_001_IllumCorrect.tif already exists!\n",
      "C7_01_3_4_RFP_001_IllumCorrect.tif already exists!\n",
      "D6_01_3_1_RFP_001_IllumCorrect.tif already exists!\n",
      "D6_01_3_2_RFP_001_IllumCorrect.tif already exists!\n",
      "D6_01_3_3_RFP_001_IllumCorrect.tif already exists!\n",
      "D6_01_3_4_RFP_001_IllumCorrect.tif already exists!\n",
      "D7_01_3_1_RFP_001_IllumCorrect.tif already exists!\n",
      "D7_01_3_2_RFP_001_IllumCorrect.tif already exists!\n",
      "D7_01_3_3_RFP_001_IllumCorrect.tif already exists!\n",
      "D7_01_3_4_RFP_001_IllumCorrect.tif already exists!\n",
      "E6_01_3_1_RFP_001_IllumCorrect.tif already exists!\n",
      "E6_01_3_2_RFP_001_IllumCorrect.tif already exists!\n",
      "E6_01_3_3_RFP_001_IllumCorrect.tif already exists!\n",
      "E6_01_3_4_RFP_001_IllumCorrect.tif already exists!\n",
      "E7_01_3_1_RFP_001_IllumCorrect.tif already exists!\n",
      "E7_01_3_2_RFP_001_IllumCorrect.tif already exists!\n",
      "E7_01_3_3_RFP_001_IllumCorrect.tif already exists!\n",
      "E7_01_3_4_RFP_001_IllumCorrect.tif already exists!\n",
      "F6_01_3_1_RFP_001_IllumCorrect.tif already exists!\n",
      "F6_01_3_2_RFP_001_IllumCorrect.tif already exists!\n",
      "F6_01_3_3_RFP_001_IllumCorrect.tif already exists!\n",
      "F6_01_3_4_RFP_001_IllumCorrect.tif already exists!\n",
      "F7_01_3_1_RFP_001_IllumCorrect.tif already exists!\n",
      "F7_01_3_2_RFP_001_IllumCorrect.tif already exists!\n",
      "F7_01_3_3_RFP_001_IllumCorrect.tif already exists!\n",
      "F7_01_3_4_RFP_001_IllumCorrect.tif already exists!\n"
     ]
    }
   ],
   "source": [
    "# Set location of input and output locations\n",
    "channel_path = pathlib.Path(\"../../0_download_data/NF1_Images\")\n",
    "\n",
    "save_path = pathlib.Path(\"../Plate1_Corrected_Images\")\n",
    "\n",
    "# Channels to process\n",
    "channels = [\"DAPI\", \"GFP\", \"RFP\"]\n",
    "\n",
    "# Perform illumination correction on each channel seperately using a `for` loop:\n",
    "for channel in channels:\n",
    "    # print(channel)\n",
    "    print(\"Correcting\", channel, \"channel images\")\n",
    "\n",
    "    # If you want to output the flatfield and darkfield calculations, then put \"output_calc=True\".\n",
    "    # If not, leave out from function since it is defaulted to False\n",
    "\n",
    "    run_illum_correct(\n",
    "        channel_path,\n",
    "        save_path,\n",
    "        channel=channel,\n",
    "        output_calc=False,\n",
    "    )"
   ]
  },
  {
   "cell_type": "markdown",
   "metadata": {},
   "source": [
    "## Process of PyBaSiC Illumination Correction\n",
    "**Note:** This section shows the process in which the helper functions are based on.\n",
    "\n",
    "### Create path and load in images\n",
    "The directory set up used for this experiment goes as such:\n",
    "```\n",
    "\n",
    "├── NF1_SchwannCell_data/\n",
    "│   ├── 0_download_data/\n",
    "│   │   ├── NF1_Images/\n",
    "│   ├── 1_preprocessing_data/\n",
    "│   │   ├── PyBaSiC_Pipelines/\n",
    "│   │   │   ├── Corrected_Images/\n",
    "\n",
    "```"
   ]
  },
  {
   "cell_type": "code",
   "execution_count": 4,
   "metadata": {},
   "outputs": [
    {
     "name": "stdout",
     "output_type": "stream",
     "text": [
      "0 / 32\n",
      "10 / 32\n",
      "20 / 32\n",
      "30 / 32\n"
     ]
    }
   ],
   "source": [
    "channels_path = pathlib.Path(\"../PyBaSiC_Pipelines/NF1_Channels/DAPI\")\n",
    "save_path = pathlib.Path(\"../Corrected_Images\")\n",
    "channel = \"DAPI\"\n",
    "file_extension = \".tif\"\n",
    "# Prints out information regarding the function running through the images\n",
    "verbosity = True\n",
    "\n",
    "# The for loop is running through the images within the folder designated by channels_path and it will only take the images from a specific channel to save and use\n",
    "# The load_data function within PyBaSiC is not used for this pipleine due to the function not being as generalizable\n",
    "\n",
    "image_files = []\n",
    "image_names = []\n",
    "images = []\n",
    "\n",
    "for image_path in channels_path.iterdir():\n",
    "    image_path = str(image_path)\n",
    "    if channel in image_path:\n",
    "        image_files.append(image_path)\n",
    "        if image_path.endswith(file_extension):\n",
    "            image_names.append(image_path.strip(file_extension))\n",
    "\n",
    "image_files.sort()\n",
    "image_names.sort()\n",
    "\n",
    "for i, image_file in enumerate(image_files):\n",
    "    if verbosity and (i % 10 == 0):\n",
    "        print(i, \"/\", len(image_files))\n",
    "    images.append(skimage.io.imread(image_file))"
   ]
  },
  {
   "cell_type": "markdown",
   "metadata": {},
   "source": [
    "### Run PyBaSiC to calculate the flatfield and darkfield"
   ]
  },
  {
   "cell_type": "code",
   "execution_count": 5,
   "metadata": {},
   "outputs": [
    {
     "name": "stdout",
     "output_type": "stream",
     "text": [
      "reweighting_iter: 1\n",
      "reweighting_iter: 2\n",
      "reweighting_iter: 3\n",
      "reweighting_iter: 4\n",
      "reweighting_iter: 5\n",
      "reweighting_iter: 6\n",
      "reweighting_iter: 7\n",
      "reweighting_iter: 8\n",
      "reweighting_iter: 9\n",
      "reweighting_iter: 10\n"
     ]
    }
   ],
   "source": [
    "flatfield, darkfield = pybasic.basic(images, darkfield=True)"
   ]
  },
  {
   "cell_type": "markdown",
   "metadata": {},
   "source": [
    "### Displays the flatfield and darkfield that will be applied to the images"
   ]
  },
  {
   "cell_type": "code",
   "execution_count": 6,
   "metadata": {},
   "outputs": [
    {
     "data": {
      "image/png": "[encoded data removed]",
      "text/plain": [
       "<Figure size 432x288 with 2 Axes>"
      ]
     },
     "metadata": {
      "needs_background": "light"
     },
     "output_type": "display_data"
    },
    {
     "data": {
      "image/png": "[encoded data removed]",
      "text/plain": [
       "<Figure size 432x288 with 2 Axes>"
      ]
     },
     "metadata": {
      "needs_background": "light"
     },
     "output_type": "display_data"
    }
   ],
   "source": [
    "# Based on documentation from the developers, it is recommended to manually check the flatfield function created using the functions below.\n",
    "# If the flatfield looks smooth, then the correction will be done well.\n",
    "# If it is noisey, then there is likely an issue with the correction.\n",
    "# Source: https://www.ncbi.nlm.nih.gov/pmc/articles/PMC5472168/\n",
    "\n",
    "plt.title(\"Flatfield\")\n",
    "plt.imshow(flatfield)\n",
    "plt.colorbar()\n",
    "plt.show()\n",
    "plt.title(\"Darkfield\")\n",
    "plt.imshow(darkfield)\n",
    "plt.colorbar()\n",
    "plt.show()"
   ]
  },
  {
   "cell_type": "markdown",
   "metadata": {},
   "source": [
    "### Run illumination correction"
   ]
  },
  {
   "cell_type": "code",
   "execution_count": 7,
   "metadata": {},
   "outputs": [],
   "source": [
    "channel_images_corrected = pybasic.correct_illumination(\n",
    "    images_list=images,\n",
    "    flatfield=flatfield,\n",
    "    darkfield=darkfield,\n",
    ")"
   ]
  },
  {
   "cell_type": "markdown",
   "metadata": {},
   "source": [
    "### Conversion of Corrected Images"
   ]
  },
  {
   "cell_type": "code",
   "execution_count": 8,
   "metadata": {},
   "outputs": [],
   "source": [
    "# The default output for the corrected images was not compatable with downstream processes which required code to convert the images to `8-bit`. This code was\n",
    "# utlized from Mitocheck Data Project - Preprocessing Training Data {https://github.com/WayScience/mitocheck_data/blob/main/1.preprocess_data/preprocess_training_data.ipynb}\n",
    "\n",
    "corrected_images_coverted = np.array(channel_images_corrected)\n",
    "corrected_images_coverted[corrected_images_coverted < 0] = 0  # makes the negatives 0\n",
    "corrected_images_coverted = corrected_images_coverted / np.max(\n",
    "    corrected_images_coverted\n",
    ")  # normalize the data to 0 - 1\n",
    "corrected_images_coverted = 255 * corrected_images_coverted  # Scale by 255\n",
    "corrected_images = corrected_images_coverted.astype(np.uint8)"
   ]
  },
  {
   "cell_type": "markdown",
   "metadata": {},
   "source": [
    "### Use `for` loop that adds suffix to corrected images and downloads them"
   ]
  },
  {
   "cell_type": "code",
   "execution_count": 9,
   "metadata": {},
   "outputs": [],
   "source": [
    "# Recommended to add a suffix that will indicate the which type of image it is, especially if the raw and corrected images look the same to the naked eye.\n",
    "\n",
    "for i, image in enumerate(corrected_images):\n",
    "    orig_file = image_names[i]\n",
    "    orig_file_name = orig_file.split(\"/\")[4]\n",
    "    new_filename = pathlib.Path(f\"{save_path}/{orig_file_name}_IllumCorrect.tif\")"
   ]
  }
 ],
 "metadata": {
  "kernelspec": {
   "display_name": "preprocessing-nf1",
   "language": "python",
   "name": "python3"
  },
  "language_info": {
   "codemirror_mode": {
    "name": "ipython",
    "version": 3
   },
   "file_extension": ".py",
   "mimetype": "text/x-python",
   "name": "python",
   "nbconvert_exporter": "python",
   "pygments_lexer": "ipython3",
   "version": "3.8.13 | packaged by conda-forge | (default, Mar 25 2022, 06:04:18) \n[GCC 10.3.0]"
  },
  "orig_nbformat": 4,
  "vscode": {
   "interpreter": {
    "hash": "1598387cc982589a2eb874fb16d91eb7b1d187b84d837056ac01f265e0e3a1b9"
   }
  }
 },
 "nbformat": 4,
 "nbformat_minor": 2
}
