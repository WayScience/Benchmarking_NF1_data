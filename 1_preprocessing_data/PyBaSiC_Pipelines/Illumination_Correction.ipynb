{
 "cells": [
  {
   "cell_type": "code",
   "execution_count": null,
   "metadata": {},
   "outputs": [],
   "source": [
    "import sys\n",
    "import numpy as np\n",
    "import matplotlib\n",
    "import pathlib\n",
    "from matplotlib import pyplot as plt\n",
    "from pathlib import Path\n",
    "import os\n",
    "import skimage\n",
    "\n",
    "# explicit import to PyBaSiC due to not having package support\n",
    "sys.path.append(\"./PyBaSiC/\")\n",
    "import pybasic"
   ]
  },
  {
   "cell_type": "markdown",
   "metadata": {},
   "source": [
    "# Create path and load in images\n",
    "The directory set up used for this experiment goes as such:\n",
    "```\n",
    "\n",
    "├── NF1_SchwannCell_data/\n",
    "│   ├── 1_preprocessing_data/\n",
    "│   │   ├── PyBaSiC_Pipelines/\n",
    "│   │   │   ├── NF1_Channels/\n",
    "│   │   │   │   ├── DAPI/ or GFP/ or RFP/\n",
    "\n",
    "```"
   ]
  },
  {
   "cell_type": "code",
   "execution_count": null,
   "metadata": {},
   "outputs": [],
   "source": [
    "channel_path = '../PyBaSiC_Pipelines/NF1_Channels/RFP/'\n",
    "\n",
    "# The for loop is running through the files within the folder designed by channel_path and will only take the names of the images and strips the \".tif\"\n",
    "# which leaves the image name that helps with identification of cells (genotype)\n",
    "\n",
    "all_files = os.listdir(channel_path)\n",
    "file_ext = \".tif\"\n",
    "image_files = []\n",
    "for file in all_files:\n",
    "    if file.endswith(file_ext):\n",
    "        image_files.append(file.strip(file_ext))\n",
    "image_files.sort()\n",
    "channel_images = pybasic.tools.load_data(channel_path, '.tif', verbosity = True)"
   ]
  },
  {
   "cell_type": "markdown",
   "metadata": {},
   "source": [
    "# Run PyBaSiC to calculate the flatfield and darkfield"
   ]
  },
  {
   "cell_type": "code",
   "execution_count": null,
   "metadata": {},
   "outputs": [],
   "source": [
    "flatfield, darkfield = pybasic.basic(channel_images, darkfield=True)"
   ]
  },
  {
   "cell_type": "markdown",
   "metadata": {},
   "source": [
    "# Displays the flatfield and darkfield that will be applied to the images"
   ]
  },
  {
   "cell_type": "code",
   "execution_count": null,
   "metadata": {},
   "outputs": [],
   "source": [
    "# Based on documentation from the developers, it is recommended to manually check the flatfield function created using the functions below.\n",
    "# If the flatfield looks smooth, then the correction will be done well.\n",
    "# If it is noisey, then there is likely an issue with the correction.\n",
    "# Source: https://www.ncbi.nlm.nih.gov/pmc/articles/PMC5472168/\n",
    "\n",
    "plt.title('Flatfield')\n",
    "plt.imshow(flatfield)\n",
    "plt.colorbar()\n",
    "plt.show()\n",
    "plt.title('Darkfield')\n",
    "plt.imshow(darkfield)\n",
    "plt.colorbar()\n",
    "plt.show()"
   ]
  },
  {
   "cell_type": "markdown",
   "metadata": {},
   "source": [
    "# Run illumination correction"
   ]
  },
  {
   "cell_type": "code",
   "execution_count": null,
   "metadata": {},
   "outputs": [],
   "source": [
    "channel_images_corrected = pybasic.correct_illumination(\n",
    "    images_list = channel_images, \n",
    "    flatfield = flatfield, \n",
    "    darkfield = darkfield,\n",
    ")"
   ]
  },
  {
   "cell_type": "markdown",
   "metadata": {},
   "source": [
    "# Visual comparison of the orginal and corrected images"
   ]
  },
  {
   "cell_type": "code",
   "execution_count": null,
   "metadata": {},
   "outputs": [],
   "source": [
    "i = 0\n",
    "plt.title('Uncorrected Image')\n",
    "plt.imshow(channel_images[i])\n",
    "plt.colorbar()\n",
    "plt.show()\n",
    "plt.title('Corrected Image')\n",
    "plt.imshow(channel_images_corrected[i])\n",
    "plt.colorbar()\n",
    "plt.show()"
   ]
  },
  {
   "cell_type": "markdown",
   "metadata": {},
   "source": [
    "# Use `for` loop that adds suffix to corrected images and downloads them"
   ]
  },
  {
   "cell_type": "code",
   "execution_count": null,
   "metadata": {},
   "outputs": [],
   "source": [
    "# Recommended to save 'image' using '.astype('uint16')' to check to make sure that the images did save correctly but save the images \n",
    "# as the float32 that is default as it is stated by developers.\n",
    "\n",
    "for i, image in enumerate(channel_images_corrected):\n",
    "    orig_file = image_files[i]\n",
    "    new_filename = f'../PyBaSiC_Pipelines/NF1_Channels/RFP_Corrected/{orig_file}_IllumCorrect.tif'\n",
    "    skimage.io.imsave(new_filename, image)"
   ]
  }
 ],
 "metadata": {
  "kernelspec": {
   "display_name": "Python 3.9.12 ('base')",
   "language": "python",
   "name": "python3"
  },
  "language_info": {
   "codemirror_mode": {
    "name": "ipython",
    "version": 3
   },
   "file_extension": ".py",
   "mimetype": "text/x-python",
   "name": "python",
   "nbconvert_exporter": "python",
   "pygments_lexer": "ipython3",
   "version": "3.9.12"
  },
  "orig_nbformat": 4,
  "vscode": {
   "interpreter": {
    "hash": "de2346a42d324d44bb19689d7eba84baa92a75efb97d2fd644d2964d22834733"
   }
  }
 },
 "nbformat": 4,
 "nbformat_minor": 2
}
