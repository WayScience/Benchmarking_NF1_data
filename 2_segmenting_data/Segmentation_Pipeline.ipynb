{
 "cells": [
  {
   "cell_type": "markdown",
   "metadata": {},
   "source": [
    "# NF1 Data Segmentation\n",
    "\n",
    "## Finds the center (x,y) coordinates for the Schwann cells in the NF1 data"
   ]
  },
  {
   "cell_type": "markdown",
   "metadata": {},
   "source": [
    "### Import libraries"
   ]
  },
  {
   "cell_type": "code",
   "execution_count": 1,
   "metadata": {},
   "outputs": [],
   "source": [
    "# from cellpose.io import logger_setup\n",
    "from cellpose import models, core, io, utils\n",
    "\n",
    "import pathlib\n",
    "import pandas as pd\n",
    "import skimage.io as io\n",
    "\n",
    "import cv2\n",
    "import numpy as np\n",
    "\n",
    "import matplotlib.path as mplPath\n",
    "\n",
    "import importlib\n",
    "\n",
    "seg = importlib.import_module(\"segmentation_utils\")"
   ]
  },
  {
   "cell_type": "markdown",
   "metadata": {},
   "source": [
    "### Check if GPU is working for CellPose to work"
   ]
  },
  {
   "cell_type": "code",
   "execution_count": 2,
   "metadata": {},
   "outputs": [
    {
     "name": "stdout",
     "output_type": "stream",
     "text": [
      ">>> GPU activated? 1\n"
     ]
    }
   ],
   "source": [
    "use_GPU = core.use_gpu()\n",
    "print(\">>> GPU activated? %d\" % use_GPU)\n",
    "# logger_setup()"
   ]
  },
  {
   "cell_type": "markdown",
   "metadata": {},
   "source": [
    "### Segment NF1 Data"
   ]
  },
  {
   "cell_type": "code",
   "execution_count": 3,
   "metadata": {},
   "outputs": [
    {
     "name": "stdout",
     "output_type": "stream",
     "text": [
      "Segmenting D6_3_nuc-segmented.tsv\n",
      "Segmenting D6_3_cyto-segmented.tsv\n",
      "Segmenting F6_2_nuc-segmented.tsv\n",
      "Segmenting F6_2_cyto-segmented.tsv\n",
      "Segmenting E7_3_nuc-segmented.tsv\n",
      "Segmenting E7_3_cyto-segmented.tsv\n",
      "Segmenting C6_2_nuc-segmented.tsv\n",
      "Segmenting C6_2_cyto-segmented.tsv\n",
      "Segmenting C7_1_nuc-segmented.tsv\n",
      "Segmenting C7_1_cyto-segmented.tsv\n",
      "Segmenting C7_4_nuc-segmented.tsv\n",
      "Segmenting C7_4_cyto-segmented.tsv\n",
      "Segmenting E6_3_nuc-segmented.tsv\n",
      "Segmenting E6_3_cyto-segmented.tsv\n",
      "Segmenting C6_1_nuc-segmented.tsv\n",
      "Segmenting C6_1_cyto-segmented.tsv\n",
      "Segmenting E7_4_nuc-segmented.tsv\n",
      "Segmenting E7_4_cyto-segmented.tsv\n",
      "Segmenting E7_1_nuc-segmented.tsv\n",
      "Segmenting E7_1_cyto-segmented.tsv\n",
      "Segmenting C6_4_nuc-segmented.tsv\n",
      "Segmenting C6_4_cyto-segmented.tsv\n",
      "Segmenting F7_1_nuc-segmented.tsv\n",
      "Segmenting F7_1_cyto-segmented.tsv\n",
      "Segmenting D7_1_nuc-segmented.tsv\n",
      "Segmenting D7_1_cyto-segmented.tsv\n",
      "Segmenting E6_1_nuc-segmented.tsv\n",
      "Segmenting E6_1_cyto-segmented.tsv\n",
      "Segmenting F6_4_nuc-segmented.tsv\n",
      "Segmenting F6_4_cyto-segmented.tsv\n",
      "Segmenting F7_4_nuc-segmented.tsv\n",
      "Segmenting F7_4_cyto-segmented.tsv\n",
      "Segmenting C6_3_nuc-segmented.tsv\n",
      "Segmenting C6_3_cyto-segmented.tsv\n",
      "Segmenting F6_3_nuc-segmented.tsv\n",
      "Segmenting F6_3_cyto-segmented.tsv\n",
      "Segmenting D6_2_nuc-segmented.tsv\n",
      "Segmenting D6_2_cyto-segmented.tsv\n",
      "Segmenting C7_2_nuc-segmented.tsv\n",
      "Segmenting C7_2_cyto-segmented.tsv\n",
      "Segmenting F7_2_nuc-segmented.tsv\n",
      "Segmenting F7_2_cyto-segmented.tsv\n",
      "Segmenting E6_4_nuc-segmented.tsv\n",
      "Segmenting E6_4_cyto-segmented.tsv\n",
      "Segmenting D6_4_nuc-segmented.tsv\n",
      "Segmenting D6_4_cyto-segmented.tsv\n",
      "Segmenting D6_1_nuc-segmented.tsv\n",
      "Segmenting D6_1_cyto-segmented.tsv\n",
      "Segmenting E6_2_nuc-segmented.tsv\n",
      "Segmenting E6_2_cyto-segmented.tsv\n",
      "Segmenting F6_1_nuc-segmented.tsv\n",
      "Segmenting F6_1_cyto-segmented.tsv\n",
      "Segmenting F7_3_nuc-segmented.tsv\n",
      "Segmenting F7_3_cyto-segmented.tsv\n",
      "Segmenting C7_3_nuc-segmented.tsv\n",
      "Segmenting C7_3_cyto-segmented.tsv\n",
      "Segmenting D7_2_nuc-segmented.tsv\n",
      "Segmenting D7_2_cyto-segmented.tsv\n",
      "Segmenting D7_4_nuc-segmented.tsv\n",
      "Segmenting D7_4_cyto-segmented.tsv\n",
      "Segmenting D7_3_nuc-segmented.tsv\n",
      "Segmenting D7_3_cyto-segmented.tsv\n",
      "Segmenting E7_2_nuc-segmented.tsv\n",
      "Segmenting E7_2_cyto-segmented.tsv\n"
     ]
    }
   ],
   "source": [
    "# Set path to data to segment and path to save the information from segmentation to\n",
    "data_path = pathlib.Path(\"../1_preprocessing_data/Corrected_Images/\")\n",
    "save_path = pathlib.Path(\"Segmented_Images\")\n",
    "\n",
    "# Model specs can be changed for each object that you are looking to segment.\n",
    "# By using the CellPose GUI, you can find these parameters and prototype with them to assess the best specifications for your data\n",
    "nuclei_model_specs = {\n",
    "    \"model_type\": \"cyto\",\n",
    "    \"channels\": [0, 0],\n",
    "    \"diameter\": 50,\n",
    "    \"flow_threshold\": 0.4,\n",
    "    \"remove_edge_masks\": True,\n",
    "}\n",
    "\n",
    "cyto_model_specs = {\n",
    "    \"model_type\": \"cyto2\",\n",
    "    \"channels\": [1, 3],\n",
    "    \"diameter\": 146,\n",
    "    \"flow_threshold\": 0.4,\n",
    "    \"remove_edge_masks\": True,\n",
    "}\n",
    "\n",
    "# Perform segmentation on objects\n",
    "seg.segment_NF1(data_path, save_path, nuclei_model_specs, cyto_model_specs)"
   ]
  }
 ],
 "metadata": {
  "kernelspec": {
   "display_name": "Python 3.8.13 ('2.segment-NF1-data')",
   "language": "python",
   "name": "python3"
  },
  "language_info": {
   "codemirror_mode": {
    "name": "ipython",
    "version": 3
   },
   "file_extension": ".py",
   "mimetype": "text/x-python",
   "name": "python",
   "nbconvert_exporter": "python",
   "pygments_lexer": "ipython3",
   "version": "3.8.13"
  },
  "orig_nbformat": 4,
  "vscode": {
   "interpreter": {
    "hash": "e2880e5773ed34dc765efa6cd049c8e5f7cdd6d2179ba47ba1df48378009cd11"
   }
  }
 },
 "nbformat": 4,
 "nbformat_minor": 2
}
