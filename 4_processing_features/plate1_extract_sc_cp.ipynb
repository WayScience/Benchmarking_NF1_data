{
 "cells": [
  {
   "attachments": {},
   "cell_type": "markdown",
   "id": "70a2251c-2a69-43f1-92bf-793095abc2cd",
   "metadata": {},
   "source": [
    "# Process single cell morphology features for CellProfiler readouts - `Plate 1`"
   ]
  },
  {
   "cell_type": "markdown",
   "id": "f7a50486",
   "metadata": {},
   "source": [
    "## Import Libraries"
   ]
  },
  {
   "cell_type": "code",
   "execution_count": 1,
   "id": "eda19789-e60d-47cd-8f07-4a65e14513e4",
   "metadata": {},
   "outputs": [],
   "source": [
    "import pandas as pd\n",
    "import pathlib\n",
    "\n",
    "import extraction_utils as sc_util"
   ]
  },
  {
   "attachments": {},
   "cell_type": "markdown",
   "id": "5f3929d2",
   "metadata": {},
   "source": [
    "## Set up paths to CellProfiler directory and outputs"
   ]
  },
  {
   "cell_type": "code",
   "execution_count": 2,
   "id": "59d7365f-4849-4847-b15c-4c796586b634",
   "metadata": {},
   "outputs": [],
   "source": [
    "# Set file and directory constants\n",
    "cp_dir = pathlib.Path(\"../CellProfiler_pipelines\")\n",
    "output_dir = pathlib.Path(\"data/Plate1/CellProfiler\")"
   ]
  },
  {
   "attachments": {},
   "cell_type": "markdown",
   "id": "84c9cb41",
   "metadata": {},
   "source": [
    "## Set up paths to sqlite files and outputs"
   ]
  },
  {
   "cell_type": "code",
   "execution_count": 3,
   "id": "e11dac11",
   "metadata": {},
   "outputs": [],
   "source": [
    "# Set paths for all cellprofiler method\n",
    "method1 = \"all_cellprofiler\"\n",
    "sql_file1 = f\"{method1}.sqlite\"\n",
    "single_cell_file1 = f\"sqlite:///{cp_dir}/Analysis_Output/Plate1_Output/{sql_file1}\"\n",
    "\n",
    "# set paths for pybasic cellprofiler method\n",
    "method2 = \"pybasic_cellprofiler\"\n",
    "sql_file2 = f\"{method2}.sqlite\"\n",
    "single_cell_file2 = f\"sqlite:///{cp_dir}/Analysis_Output/Plate1_Output/{sql_file2}\"\n",
    "\n",
    "# set paths for pybasic cellpose method\n",
    "method3 = \"pybasic_cellpose\"\n",
    "sql_file3 = f\"{method3}.sqlite\"\n",
    "single_cell_file3 = f\"sqlite:///{cp_dir}/Analysis_Output/Plate1_Output/{sql_file3}\"\n",
    "\n",
    "# set paths for cellprofiler cellpose method\n",
    "method4 = \"cellprofiler_cellpose\"\n",
    "sql_file4 = f\"{method4}.sqlite\"\n",
    "single_cell_file4 = f\"sqlite:///{cp_dir}/Analysis_Output/Plate1_Output/{sql_file4}\"\n",
    "\n",
    "# set path to the platemap for plate 1\n",
    "platemap_file = pathlib.Path(f\"{cp_dir}/Metadata/platemap_NF1_CP.csv\")"
   ]
  },
  {
   "attachments": {},
   "cell_type": "markdown",
   "id": "728f5105",
   "metadata": {},
   "source": [
    "## Set up names for linking columns between tables in the database file"
   ]
  },
  {
   "cell_type": "code",
   "execution_count": 4,
   "id": "fe8784da-16d3-4401-bef8-6a250ed8e6be",
   "metadata": {},
   "outputs": [],
   "source": [
    "# Define custom linking columns between compartments\n",
    "linking_cols = {\n",
    "    \"Per_Cytoplasm\": {\n",
    "        \"Per_Cells\": \"Cytoplasm_Parent_Cells\",\n",
    "        \"Per_Nuclei\": \"Cytoplasm_Parent_Nuclei\",\n",
    "    },\n",
    "    \"Per_Cells\": {\"Per_Cytoplasm\": \"Cells_Number_Object_Number\"},\n",
    "    \"Per_Nuclei\": {\"Per_Cytoplasm\": \"Nuclei_Number_Object_Number\"},\n",
    "}"
   ]
  },
  {
   "attachments": {},
   "cell_type": "markdown",
   "id": "4c2552fa",
   "metadata": {},
   "source": [
    "## Load in platemap"
   ]
  },
  {
   "cell_type": "code",
   "execution_count": 5,
   "id": "eb95b453",
   "metadata": {},
   "outputs": [
    {
     "data": {
      "text/html": [
       "<div>\n",
       "<style scoped>\n",
       "    .dataframe tbody tr th:only-of-type {\n",
       "        vertical-align: middle;\n",
       "    }\n",
       "\n",
       "    .dataframe tbody tr th {\n",
       "        vertical-align: top;\n",
       "    }\n",
       "\n",
       "    .dataframe thead th {\n",
       "        text-align: right;\n",
       "    }\n",
       "</style>\n",
       "<table border=\"1\" class=\"dataframe\">\n",
       "  <thead>\n",
       "    <tr style=\"text-align: right;\">\n",
       "      <th></th>\n",
       "      <th>WellRow</th>\n",
       "      <th>WellCol</th>\n",
       "      <th>well_position</th>\n",
       "      <th>gene_name</th>\n",
       "      <th>genotype</th>\n",
       "    </tr>\n",
       "  </thead>\n",
       "  <tbody>\n",
       "    <tr>\n",
       "      <th>0</th>\n",
       "      <td>C</td>\n",
       "      <td>6</td>\n",
       "      <td>C6</td>\n",
       "      <td>NF1</td>\n",
       "      <td>WT</td>\n",
       "    </tr>\n",
       "    <tr>\n",
       "      <th>1</th>\n",
       "      <td>C</td>\n",
       "      <td>7</td>\n",
       "      <td>C7</td>\n",
       "      <td>NF1</td>\n",
       "      <td>Null</td>\n",
       "    </tr>\n",
       "    <tr>\n",
       "      <th>2</th>\n",
       "      <td>D</td>\n",
       "      <td>6</td>\n",
       "      <td>D6</td>\n",
       "      <td>NF1</td>\n",
       "      <td>WT</td>\n",
       "    </tr>\n",
       "    <tr>\n",
       "      <th>3</th>\n",
       "      <td>D</td>\n",
       "      <td>7</td>\n",
       "      <td>D7</td>\n",
       "      <td>NF1</td>\n",
       "      <td>Null</td>\n",
       "    </tr>\n",
       "    <tr>\n",
       "      <th>4</th>\n",
       "      <td>E</td>\n",
       "      <td>6</td>\n",
       "      <td>E6</td>\n",
       "      <td>NF1</td>\n",
       "      <td>WT</td>\n",
       "    </tr>\n",
       "  </tbody>\n",
       "</table>\n",
       "</div>"
      ],
      "text/plain": [
       "  WellRow  WellCol well_position gene_name genotype\n",
       "0       C        6            C6       NF1       WT\n",
       "1       C        7            C7       NF1     Null\n",
       "2       D        6            D6       NF1       WT\n",
       "3       D        7            D7       NF1     Null\n",
       "4       E        6            E6       NF1       WT"
      ]
     },
     "execution_count": 5,
     "metadata": {},
     "output_type": "execute_result"
    }
   ],
   "source": [
    "# Load platemap file\n",
    "platemap_df = pd.read_csv(platemap_file)\n",
    "platemap_df.head()"
   ]
  },
  {
   "attachments": {},
   "cell_type": "markdown",
   "id": "b905b780",
   "metadata": {},
   "source": [
    "## Perform extraction with All CellProfiler method\n",
    "\n",
    "- Merge single cells\n",
    "- Normalize\n",
    "- Feature selection on normalized features"
   ]
  },
  {
   "cell_type": "code",
   "execution_count": 6,
   "id": "a544b8f0",
   "metadata": {},
   "outputs": [
    {
     "name": "stderr",
     "output_type": "stream",
     "text": [
      "/home/jenna/anaconda3/envs/4.process-nf1-features/lib/python3.8/site-packages/pycytominer/cyto_utils/util.py:61: UserWarning: Non-canonical compartment detected: per_cells, per_cytoplasm, per_nuclei\n",
      "  warnings.warn(warn_str)\n",
      "/home/jenna/anaconda3/envs/4.process-nf1-features/lib/python3.8/site-packages/numpy/lib/function_base.py:2829: RuntimeWarning: invalid value encountered in true_divide\n",
      "  c /= stddev[:, None]\n",
      "/home/jenna/anaconda3/envs/4.process-nf1-features/lib/python3.8/site-packages/numpy/lib/function_base.py:2830: RuntimeWarning: invalid value encountered in true_divide\n",
      "  c /= stddev[None, :]\n"
     ]
    }
   ],
   "source": [
    "sc_util.extract_single_cells(\n",
    "    single_cell_file=single_cell_file1,\n",
    "    linking_cols=linking_cols,\n",
    "    platemap_df=platemap_df,\n",
    "    output_folder=output_dir,\n",
    "    method_name=method1,\n",
    "    norm_feature_select=True,\n",
    ")"
   ]
  },
  {
   "attachments": {},
   "cell_type": "markdown",
   "id": "ed5d3a77",
   "metadata": {},
   "source": [
    "## Perform extraction with PyBaSiC CellProfiler method\n",
    "\n",
    "- Merge single cells\n",
    "- Normalize\n",
    "- Feature selection on normalized features"
   ]
  },
  {
   "cell_type": "code",
   "execution_count": 7,
   "id": "ae5832f4",
   "metadata": {},
   "outputs": [
    {
     "name": "stderr",
     "output_type": "stream",
     "text": [
      "/home/jenna/anaconda3/envs/4.process-nf1-features/lib/python3.8/site-packages/pycytominer/cyto_utils/util.py:61: UserWarning: Non-canonical compartment detected: per_cells, per_cytoplasm, per_nuclei\n",
      "  warnings.warn(warn_str)\n"
     ]
    }
   ],
   "source": [
    "sc_util.extract_single_cells(\n",
    "    single_cell_file=single_cell_file2,\n",
    "    linking_cols=linking_cols,\n",
    "    platemap_df=platemap_df,\n",
    "    output_folder=output_dir,\n",
    "    method_name=method2,\n",
    "    norm_feature_select=True,\n",
    ")"
   ]
  },
  {
   "attachments": {},
   "cell_type": "markdown",
   "id": "857eb935",
   "metadata": {},
   "source": [
    "## Perform extraction with PyBaSiC Cellpose method\n",
    "\n",
    "- Merge single cells\n",
    "- Normalize\n",
    "- Feature selection on normalized features"
   ]
  },
  {
   "cell_type": "code",
   "execution_count": 8,
   "id": "cf5d973e",
   "metadata": {},
   "outputs": [
    {
     "name": "stderr",
     "output_type": "stream",
     "text": [
      "/home/jenna/anaconda3/envs/4.process-nf1-features/lib/python3.8/site-packages/pycytominer/cyto_utils/util.py:61: UserWarning: Non-canonical compartment detected: per_cells, per_cytoplasm, per_nuclei\n",
      "  warnings.warn(warn_str)\n"
     ]
    }
   ],
   "source": [
    "sc_util.extract_single_cells(\n",
    "    single_cell_file=single_cell_file3,\n",
    "    linking_cols=linking_cols,\n",
    "    platemap_df=platemap_df,\n",
    "    output_folder=output_dir,\n",
    "    method_name=method3,\n",
    "    norm_feature_select=True,\n",
    ")"
   ]
  },
  {
   "attachments": {},
   "cell_type": "markdown",
   "id": "9417d082",
   "metadata": {},
   "source": [
    "## Perform extraction with CellProfiler Cellpose method\n",
    "\n",
    "- Merge single cells\n",
    "- Normalize\n",
    "- Feature selection on normalized features"
   ]
  },
  {
   "cell_type": "code",
   "execution_count": 9,
   "id": "5aa4f05f",
   "metadata": {},
   "outputs": [
    {
     "name": "stderr",
     "output_type": "stream",
     "text": [
      "/home/jenna/anaconda3/envs/4.process-nf1-features/lib/python3.8/site-packages/pycytominer/cyto_utils/util.py:61: UserWarning: Non-canonical compartment detected: per_cells, per_cytoplasm, per_nuclei\n",
      "  warnings.warn(warn_str)\n",
      "/home/jenna/anaconda3/envs/4.process-nf1-features/lib/python3.8/site-packages/numpy/lib/function_base.py:2829: RuntimeWarning: invalid value encountered in true_divide\n",
      "  c /= stddev[:, None]\n",
      "/home/jenna/anaconda3/envs/4.process-nf1-features/lib/python3.8/site-packages/numpy/lib/function_base.py:2830: RuntimeWarning: invalid value encountered in true_divide\n",
      "  c /= stddev[None, :]\n"
     ]
    }
   ],
   "source": [
    "sc_util.extract_single_cells(\n",
    "    single_cell_file=single_cell_file4,\n",
    "    linking_cols=linking_cols,\n",
    "    platemap_df=platemap_df,\n",
    "    output_folder=output_dir,\n",
    "    method_name=method4,\n",
    "    norm_feature_select=True,\n",
    ")"
   ]
  },
  {
   "attachments": {},
   "cell_type": "markdown",
   "id": "25bb9397",
   "metadata": {},
   "source": [
    "---\n",
    "## Visualize count statisitics"
   ]
  },
  {
   "attachments": {},
   "cell_type": "markdown",
   "id": "72aae046",
   "metadata": {},
   "source": [
    "### All CellProfiler"
   ]
  },
  {
   "cell_type": "code",
   "execution_count": 10,
   "id": "ff7c7427",
   "metadata": {},
   "outputs": [
    {
     "data": {
      "text/plain": [
       "Null    173\n",
       "WT       69\n",
       "Name: Metadata_genotype, dtype: int64"
      ]
     },
     "execution_count": 10,
     "metadata": {},
     "output_type": "execute_result"
    }
   ],
   "source": [
    "data_path = f\"{output_dir}/nf1_sc_{method1}.csv.gz\"\n",
    "data_df = pd.read_csv(data_path, compression=\"gzip\")\n",
    "\n",
    "data_df.Metadata_genotype.value_counts()"
   ]
  },
  {
   "cell_type": "code",
   "execution_count": 11,
   "id": "647b7c2d",
   "metadata": {},
   "outputs": [
    {
     "data": {
      "text/html": [
       "<div>\n",
       "<style scoped>\n",
       "    .dataframe tbody tr th:only-of-type {\n",
       "        vertical-align: middle;\n",
       "    }\n",
       "\n",
       "    .dataframe tbody tr th {\n",
       "        vertical-align: top;\n",
       "    }\n",
       "\n",
       "    .dataframe thead th {\n",
       "        text-align: right;\n",
       "    }\n",
       "</style>\n",
       "<table border=\"1\" class=\"dataframe\">\n",
       "  <thead>\n",
       "    <tr style=\"text-align: right;\">\n",
       "      <th>Metadata_Well</th>\n",
       "      <th>C6</th>\n",
       "      <th>C7</th>\n",
       "      <th>D6</th>\n",
       "      <th>D7</th>\n",
       "      <th>E6</th>\n",
       "      <th>E7</th>\n",
       "      <th>F6</th>\n",
       "      <th>F7</th>\n",
       "    </tr>\n",
       "    <tr>\n",
       "      <th>Metadata_genotype</th>\n",
       "      <th></th>\n",
       "      <th></th>\n",
       "      <th></th>\n",
       "      <th></th>\n",
       "      <th></th>\n",
       "      <th></th>\n",
       "      <th></th>\n",
       "      <th></th>\n",
       "    </tr>\n",
       "  </thead>\n",
       "  <tbody>\n",
       "    <tr>\n",
       "      <th>Null</th>\n",
       "      <td>0</td>\n",
       "      <td>21</td>\n",
       "      <td>0</td>\n",
       "      <td>29</td>\n",
       "      <td>0</td>\n",
       "      <td>56</td>\n",
       "      <td>0</td>\n",
       "      <td>67</td>\n",
       "    </tr>\n",
       "    <tr>\n",
       "      <th>WT</th>\n",
       "      <td>25</td>\n",
       "      <td>0</td>\n",
       "      <td>7</td>\n",
       "      <td>0</td>\n",
       "      <td>14</td>\n",
       "      <td>0</td>\n",
       "      <td>23</td>\n",
       "      <td>0</td>\n",
       "    </tr>\n",
       "  </tbody>\n",
       "</table>\n",
       "</div>"
      ],
      "text/plain": [
       "Metadata_Well      C6  C7  D6  D7  E6  E7  F6  F7\n",
       "Metadata_genotype                                \n",
       "Null                0  21   0  29   0  56   0  67\n",
       "WT                 25   0   7   0  14   0  23   0"
      ]
     },
     "execution_count": 11,
     "metadata": {},
     "output_type": "execute_result"
    }
   ],
   "source": [
    "# visualize the single cell counts in each well per genotype\n",
    "pd.crosstab(data_df.Metadata_genotype, data_df.Metadata_Well)"
   ]
  },
  {
   "attachments": {},
   "cell_type": "markdown",
   "id": "d1ddd1c4",
   "metadata": {},
   "source": [
    "### PyBaSiC CellProfiler"
   ]
  },
  {
   "cell_type": "code",
   "execution_count": 12,
   "id": "ef8c9556",
   "metadata": {},
   "outputs": [
    {
     "data": {
      "text/plain": [
       "Null    172\n",
       "WT       69\n",
       "Name: Metadata_genotype, dtype: int64"
      ]
     },
     "execution_count": 12,
     "metadata": {},
     "output_type": "execute_result"
    }
   ],
   "source": [
    "data_path = f\"{output_dir}/nf1_sc_{method2}.csv.gz\"\n",
    "data_df = pd.read_csv(data_path, compression=\"gzip\")\n",
    "\n",
    "data_df.Metadata_genotype.value_counts()"
   ]
  },
  {
   "cell_type": "code",
   "execution_count": 13,
   "id": "f0abf337",
   "metadata": {},
   "outputs": [
    {
     "data": {
      "text/html": [
       "<div>\n",
       "<style scoped>\n",
       "    .dataframe tbody tr th:only-of-type {\n",
       "        vertical-align: middle;\n",
       "    }\n",
       "\n",
       "    .dataframe tbody tr th {\n",
       "        vertical-align: top;\n",
       "    }\n",
       "\n",
       "    .dataframe thead th {\n",
       "        text-align: right;\n",
       "    }\n",
       "</style>\n",
       "<table border=\"1\" class=\"dataframe\">\n",
       "  <thead>\n",
       "    <tr style=\"text-align: right;\">\n",
       "      <th>Metadata_Well</th>\n",
       "      <th>C6</th>\n",
       "      <th>C7</th>\n",
       "      <th>D6</th>\n",
       "      <th>D7</th>\n",
       "      <th>E6</th>\n",
       "      <th>E7</th>\n",
       "      <th>F6</th>\n",
       "      <th>F7</th>\n",
       "    </tr>\n",
       "    <tr>\n",
       "      <th>Metadata_genotype</th>\n",
       "      <th></th>\n",
       "      <th></th>\n",
       "      <th></th>\n",
       "      <th></th>\n",
       "      <th></th>\n",
       "      <th></th>\n",
       "      <th></th>\n",
       "      <th></th>\n",
       "    </tr>\n",
       "  </thead>\n",
       "  <tbody>\n",
       "    <tr>\n",
       "      <th>Null</th>\n",
       "      <td>0</td>\n",
       "      <td>22</td>\n",
       "      <td>0</td>\n",
       "      <td>27</td>\n",
       "      <td>0</td>\n",
       "      <td>56</td>\n",
       "      <td>0</td>\n",
       "      <td>67</td>\n",
       "    </tr>\n",
       "    <tr>\n",
       "      <th>WT</th>\n",
       "      <td>25</td>\n",
       "      <td>0</td>\n",
       "      <td>7</td>\n",
       "      <td>0</td>\n",
       "      <td>15</td>\n",
       "      <td>0</td>\n",
       "      <td>22</td>\n",
       "      <td>0</td>\n",
       "    </tr>\n",
       "  </tbody>\n",
       "</table>\n",
       "</div>"
      ],
      "text/plain": [
       "Metadata_Well      C6  C7  D6  D7  E6  E7  F6  F7\n",
       "Metadata_genotype                                \n",
       "Null                0  22   0  27   0  56   0  67\n",
       "WT                 25   0   7   0  15   0  22   0"
      ]
     },
     "execution_count": 13,
     "metadata": {},
     "output_type": "execute_result"
    }
   ],
   "source": [
    "pd.crosstab(data_df.Metadata_genotype, data_df.Metadata_Well)"
   ]
  },
  {
   "attachments": {},
   "cell_type": "markdown",
   "id": "e314847e",
   "metadata": {},
   "source": [
    "### PyBaSiC Cellpose"
   ]
  },
  {
   "cell_type": "code",
   "execution_count": 14,
   "id": "9604d042",
   "metadata": {},
   "outputs": [
    {
     "data": {
      "text/plain": [
       "Null    182\n",
       "WT       75\n",
       "Name: Metadata_genotype, dtype: int64"
      ]
     },
     "execution_count": 14,
     "metadata": {},
     "output_type": "execute_result"
    }
   ],
   "source": [
    "data_path = f\"{output_dir}/nf1_sc_{method3}.csv.gz\"\n",
    "data_df = pd.read_csv(data_path, compression=\"gzip\")\n",
    "\n",
    "data_df.Metadata_genotype.value_counts()"
   ]
  },
  {
   "cell_type": "code",
   "execution_count": 15,
   "id": "87d99f68",
   "metadata": {},
   "outputs": [
    {
     "data": {
      "text/html": [
       "<div>\n",
       "<style scoped>\n",
       "    .dataframe tbody tr th:only-of-type {\n",
       "        vertical-align: middle;\n",
       "    }\n",
       "\n",
       "    .dataframe tbody tr th {\n",
       "        vertical-align: top;\n",
       "    }\n",
       "\n",
       "    .dataframe thead th {\n",
       "        text-align: right;\n",
       "    }\n",
       "</style>\n",
       "<table border=\"1\" class=\"dataframe\">\n",
       "  <thead>\n",
       "    <tr style=\"text-align: right;\">\n",
       "      <th>Metadata_Well</th>\n",
       "      <th>C6</th>\n",
       "      <th>C7</th>\n",
       "      <th>D6</th>\n",
       "      <th>D7</th>\n",
       "      <th>E6</th>\n",
       "      <th>E7</th>\n",
       "      <th>F6</th>\n",
       "      <th>F7</th>\n",
       "    </tr>\n",
       "    <tr>\n",
       "      <th>Metadata_genotype</th>\n",
       "      <th></th>\n",
       "      <th></th>\n",
       "      <th></th>\n",
       "      <th></th>\n",
       "      <th></th>\n",
       "      <th></th>\n",
       "      <th></th>\n",
       "      <th></th>\n",
       "    </tr>\n",
       "  </thead>\n",
       "  <tbody>\n",
       "    <tr>\n",
       "      <th>Null</th>\n",
       "      <td>0</td>\n",
       "      <td>23</td>\n",
       "      <td>0</td>\n",
       "      <td>32</td>\n",
       "      <td>0</td>\n",
       "      <td>59</td>\n",
       "      <td>0</td>\n",
       "      <td>68</td>\n",
       "    </tr>\n",
       "    <tr>\n",
       "      <th>WT</th>\n",
       "      <td>26</td>\n",
       "      <td>0</td>\n",
       "      <td>7</td>\n",
       "      <td>0</td>\n",
       "      <td>17</td>\n",
       "      <td>0</td>\n",
       "      <td>25</td>\n",
       "      <td>0</td>\n",
       "    </tr>\n",
       "  </tbody>\n",
       "</table>\n",
       "</div>"
      ],
      "text/plain": [
       "Metadata_Well      C6  C7  D6  D7  E6  E7  F6  F7\n",
       "Metadata_genotype                                \n",
       "Null                0  23   0  32   0  59   0  68\n",
       "WT                 26   0   7   0  17   0  25   0"
      ]
     },
     "execution_count": 15,
     "metadata": {},
     "output_type": "execute_result"
    }
   ],
   "source": [
    "pd.crosstab(data_df.Metadata_genotype, data_df.Metadata_Well)"
   ]
  },
  {
   "attachments": {},
   "cell_type": "markdown",
   "id": "544b96cd",
   "metadata": {},
   "source": [
    "### CellProfiler Cellpose"
   ]
  },
  {
   "cell_type": "code",
   "execution_count": 16,
   "id": "c20fcd95",
   "metadata": {},
   "outputs": [
    {
     "data": {
      "text/plain": [
       "Null    181\n",
       "WT       76\n",
       "Name: Metadata_genotype, dtype: int64"
      ]
     },
     "execution_count": 16,
     "metadata": {},
     "output_type": "execute_result"
    }
   ],
   "source": [
    "data_path = f\"{output_dir}/nf1_sc_{method4}.csv.gz\"\n",
    "data_df = pd.read_csv(data_path, compression=\"gzip\")\n",
    "\n",
    "data_df.Metadata_genotype.value_counts()"
   ]
  },
  {
   "cell_type": "code",
   "execution_count": 17,
   "id": "eade851c",
   "metadata": {},
   "outputs": [
    {
     "data": {
      "text/html": [
       "<div>\n",
       "<style scoped>\n",
       "    .dataframe tbody tr th:only-of-type {\n",
       "        vertical-align: middle;\n",
       "    }\n",
       "\n",
       "    .dataframe tbody tr th {\n",
       "        vertical-align: top;\n",
       "    }\n",
       "\n",
       "    .dataframe thead th {\n",
       "        text-align: right;\n",
       "    }\n",
       "</style>\n",
       "<table border=\"1\" class=\"dataframe\">\n",
       "  <thead>\n",
       "    <tr style=\"text-align: right;\">\n",
       "      <th>Metadata_Well</th>\n",
       "      <th>C6</th>\n",
       "      <th>C7</th>\n",
       "      <th>D6</th>\n",
       "      <th>D7</th>\n",
       "      <th>E6</th>\n",
       "      <th>E7</th>\n",
       "      <th>F6</th>\n",
       "      <th>F7</th>\n",
       "    </tr>\n",
       "    <tr>\n",
       "      <th>Metadata_genotype</th>\n",
       "      <th></th>\n",
       "      <th></th>\n",
       "      <th></th>\n",
       "      <th></th>\n",
       "      <th></th>\n",
       "      <th></th>\n",
       "      <th></th>\n",
       "      <th></th>\n",
       "    </tr>\n",
       "  </thead>\n",
       "  <tbody>\n",
       "    <tr>\n",
       "      <th>Null</th>\n",
       "      <td>0</td>\n",
       "      <td>23</td>\n",
       "      <td>0</td>\n",
       "      <td>32</td>\n",
       "      <td>0</td>\n",
       "      <td>59</td>\n",
       "      <td>0</td>\n",
       "      <td>67</td>\n",
       "    </tr>\n",
       "    <tr>\n",
       "      <th>WT</th>\n",
       "      <td>26</td>\n",
       "      <td>0</td>\n",
       "      <td>7</td>\n",
       "      <td>0</td>\n",
       "      <td>17</td>\n",
       "      <td>0</td>\n",
       "      <td>26</td>\n",
       "      <td>0</td>\n",
       "    </tr>\n",
       "  </tbody>\n",
       "</table>\n",
       "</div>"
      ],
      "text/plain": [
       "Metadata_Well      C6  C7  D6  D7  E6  E7  F6  F7\n",
       "Metadata_genotype                                \n",
       "Null                0  23   0  32   0  59   0  67\n",
       "WT                 26   0   7   0  17   0  26   0"
      ]
     },
     "execution_count": 17,
     "metadata": {},
     "output_type": "execute_result"
    }
   ],
   "source": [
    "pd.crosstab(data_df.Metadata_genotype, data_df.Metadata_Well)"
   ]
  }
 ],
 "metadata": {
  "kernelspec": {
   "display_name": "4.process-nf1-features",
   "language": "python",
   "name": "python3"
  },
  "language_info": {
   "codemirror_mode": {
    "name": "ipython",
    "version": 3
   },
   "file_extension": ".py",
   "mimetype": "text/x-python",
   "name": "python",
   "nbconvert_exporter": "python",
   "pygments_lexer": "ipython3",
   "version": "3.8.13"
  },
  "vscode": {
   "interpreter": {
    "hash": "6e6aca846613de2bb537f4a3be07c319e65610ef8366b19567099a39e74b14d7"
   }
  }
 },
 "nbformat": 4,
 "nbformat_minor": 5
}
