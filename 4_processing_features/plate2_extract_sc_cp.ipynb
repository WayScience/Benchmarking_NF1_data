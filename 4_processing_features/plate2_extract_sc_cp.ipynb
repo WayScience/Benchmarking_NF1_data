{
 "cells": [
  {
   "attachments": {},
   "cell_type": "markdown",
   "id": "70a2251c-2a69-43f1-92bf-793095abc2cd",
   "metadata": {},
   "source": [
    "# Process single cell morphology features for CellProfiler readouts - `Plate 2`"
   ]
  },
  {
   "cell_type": "markdown",
   "id": "f7a50486",
   "metadata": {},
   "source": [
    "## Import Libraries"
   ]
  },
  {
   "cell_type": "code",
   "execution_count": 1,
   "id": "eda19789-e60d-47cd-8f07-4a65e14513e4",
   "metadata": {},
   "outputs": [],
   "source": [
    "import pandas as pd\n",
    "import pathlib\n",
    "\n",
    "import extraction_utils as sc_util"
   ]
  },
  {
   "attachments": {},
   "cell_type": "markdown",
   "id": "5f3929d2",
   "metadata": {},
   "source": [
    "## Set up paths to CellProfiler directory and outputs"
   ]
  },
  {
   "cell_type": "code",
   "execution_count": 2,
   "id": "59d7365f-4849-4847-b15c-4c796586b634",
   "metadata": {},
   "outputs": [],
   "source": [
    "# Set file and directory constants\n",
    "cp_dir = pathlib.Path(\"../CellProfiler_pipelines\")\n",
    "output_dir = pathlib.Path(\"data/Plate2/CellProfiler\")"
   ]
  },
  {
   "attachments": {},
   "cell_type": "markdown",
   "id": "84c9cb41",
   "metadata": {},
   "source": [
    "## Set up paths to sqlite files and outputs"
   ]
  },
  {
   "cell_type": "code",
   "execution_count": 3,
   "id": "e11dac11",
   "metadata": {},
   "outputs": [],
   "source": [
    "# Set paths for all cellprofiler method\n",
    "method1 = \"all_cellprofiler\"\n",
    "sql_file1 = f\"{method1}.sqlite\"\n",
    "single_cell_file1 = f\"sqlite:///{cp_dir}/Analysis_Output/Plate2_Output/{sql_file1}\"\n",
    "\n",
    "# set paths for pybasic cellprofiler method\n",
    "method2 = \"pybasic_cellprofiler\"\n",
    "sql_file2 = f\"{method2}.sqlite\"\n",
    "single_cell_file2 = f\"sqlite:///{cp_dir}/Analysis_Output/Plate2_Output/{sql_file2}\"\n",
    "\n",
    "# set paths for pybasic cellpose method\n",
    "method3 = \"pybasic_cellpose\"\n",
    "sql_file3 = f\"{method3}.sqlite\"\n",
    "single_cell_file3 = f\"sqlite:///{cp_dir}/Analysis_Output/Plate2_Output/{sql_file3}\"\n",
    "\n",
    "# set paths for cellprofiler cellpose method\n",
    "method4 = \"cellprofiler_cellpose\"\n",
    "sql_file4 = f\"{method4}.sqlite\"\n",
    "single_cell_file4 = f\"sqlite:///{cp_dir}/Analysis_Output/Plate2_Output/{sql_file4}\"\n",
    "\n",
    "# set path to the platemap for plate 2\n",
    "platemap_file = pathlib.Path(f\"{cp_dir}/Metadata/platemap_NF1_CP_Plate2.csv\")"
   ]
  },
  {
   "attachments": {},
   "cell_type": "markdown",
   "id": "728f5105",
   "metadata": {},
   "source": [
    "## Set up names for linking columns between tables in the database file"
   ]
  },
  {
   "cell_type": "code",
   "execution_count": 4,
   "id": "fe8784da-16d3-4401-bef8-6a250ed8e6be",
   "metadata": {},
   "outputs": [],
   "source": [
    "# Define custom linking columns between compartments\n",
    "linking_cols = {\n",
    "    \"Per_Cytoplasm\": {\n",
    "        \"Per_Cells\": \"Cytoplasm_Parent_Cells\",\n",
    "        \"Per_Nuclei\": \"Cytoplasm_Parent_Nuclei\",\n",
    "    },\n",
    "    \"Per_Cells\": {\"Per_Cytoplasm\": \"Cells_Number_Object_Number\"},\n",
    "    \"Per_Nuclei\": {\"Per_Cytoplasm\": \"Nuclei_Number_Object_Number\"},\n",
    "}"
   ]
  },
  {
   "attachments": {},
   "cell_type": "markdown",
   "id": "4c2552fa",
   "metadata": {},
   "source": [
    "## Load in platemap"
   ]
  },
  {
   "cell_type": "code",
   "execution_count": 5,
   "id": "eb95b453",
   "metadata": {},
   "outputs": [
    {
     "data": {
      "text/html": [
       "<div>\n",
       "<style scoped>\n",
       "    .dataframe tbody tr th:only-of-type {\n",
       "        vertical-align: middle;\n",
       "    }\n",
       "\n",
       "    .dataframe tbody tr th {\n",
       "        vertical-align: top;\n",
       "    }\n",
       "\n",
       "    .dataframe thead th {\n",
       "        text-align: right;\n",
       "    }\n",
       "</style>\n",
       "<table border=\"1\" class=\"dataframe\">\n",
       "  <thead>\n",
       "    <tr style=\"text-align: right;\">\n",
       "      <th></th>\n",
       "      <th>WellRow</th>\n",
       "      <th>WellCol</th>\n",
       "      <th>well_position</th>\n",
       "      <th>gene_name</th>\n",
       "      <th>genotype</th>\n",
       "    </tr>\n",
       "  </thead>\n",
       "  <tbody>\n",
       "    <tr>\n",
       "      <th>0</th>\n",
       "      <td>A</td>\n",
       "      <td>1</td>\n",
       "      <td>A1</td>\n",
       "      <td>NF1</td>\n",
       "      <td>WT</td>\n",
       "    </tr>\n",
       "    <tr>\n",
       "      <th>1</th>\n",
       "      <td>A</td>\n",
       "      <td>6</td>\n",
       "      <td>A6</td>\n",
       "      <td>NF1</td>\n",
       "      <td>WT</td>\n",
       "    </tr>\n",
       "    <tr>\n",
       "      <th>2</th>\n",
       "      <td>A</td>\n",
       "      <td>7</td>\n",
       "      <td>A7</td>\n",
       "      <td>NF1</td>\n",
       "      <td>Null</td>\n",
       "    </tr>\n",
       "    <tr>\n",
       "      <th>3</th>\n",
       "      <td>A</td>\n",
       "      <td>12</td>\n",
       "      <td>A12</td>\n",
       "      <td>NF1</td>\n",
       "      <td>Null</td>\n",
       "    </tr>\n",
       "    <tr>\n",
       "      <th>4</th>\n",
       "      <td>B</td>\n",
       "      <td>1</td>\n",
       "      <td>B1</td>\n",
       "      <td>NF1</td>\n",
       "      <td>WT</td>\n",
       "    </tr>\n",
       "  </tbody>\n",
       "</table>\n",
       "</div>"
      ],
      "text/plain": [
       "  WellRow  WellCol well_position gene_name genotype\n",
       "0       A        1            A1       NF1       WT\n",
       "1       A        6            A6       NF1       WT\n",
       "2       A        7            A7       NF1     Null\n",
       "3       A       12           A12       NF1     Null\n",
       "4       B        1            B1       NF1       WT"
      ]
     },
     "execution_count": 5,
     "metadata": {},
     "output_type": "execute_result"
    }
   ],
   "source": [
    "# Load platemap file\n",
    "platemap_df = pd.read_csv(platemap_file)\n",
    "platemap_df.head()"
   ]
  },
  {
   "attachments": {},
   "cell_type": "markdown",
   "id": "b905b780",
   "metadata": {},
   "source": [
    "## Perform extraction with All CellProfiler method\n",
    "\n",
    "- Merge single cells\n",
    "- Normalize\n",
    "- Feature selection on normalized features"
   ]
  },
  {
   "cell_type": "code",
   "execution_count": 6,
   "id": "a544b8f0",
   "metadata": {},
   "outputs": [
    {
     "name": "stderr",
     "output_type": "stream",
     "text": [
      "/home/jenna/anaconda3/envs/4.process-nf1-features/lib/python3.8/site-packages/pycytominer/cyto_utils/util.py:61: UserWarning: Non-canonical compartment detected: per_cells, per_cytoplasm, per_nuclei\n",
      "  warnings.warn(warn_str)\n",
      "/home/jenna/anaconda3/envs/4.process-nf1-features/lib/python3.8/site-packages/numpy/lib/function_base.py:2829: RuntimeWarning: invalid value encountered in true_divide\n",
      "  c /= stddev[:, None]\n",
      "/home/jenna/anaconda3/envs/4.process-nf1-features/lib/python3.8/site-packages/numpy/lib/function_base.py:2830: RuntimeWarning: invalid value encountered in true_divide\n",
      "  c /= stddev[None, :]\n"
     ]
    }
   ],
   "source": [
    "sc_util.extract_single_cells(\n",
    "    single_cell_file=single_cell_file1,\n",
    "    linking_cols=linking_cols,\n",
    "    platemap_df=platemap_df,\n",
    "    output_folder=output_dir,\n",
    "    method_name=method1,\n",
    "    norm_feature_select=True,\n",
    ")"
   ]
  },
  {
   "attachments": {},
   "cell_type": "markdown",
   "id": "ed5d3a77",
   "metadata": {},
   "source": [
    "## Perform extraction with PyBaSiC CellProfiler method\n",
    "\n",
    "- Merge single cells\n",
    "- Normalize\n",
    "- Feature selection on normalized features"
   ]
  },
  {
   "cell_type": "code",
   "execution_count": 7,
   "id": "ae5832f4",
   "metadata": {},
   "outputs": [
    {
     "name": "stderr",
     "output_type": "stream",
     "text": [
      "/home/jenna/anaconda3/envs/4.process-nf1-features/lib/python3.8/site-packages/pycytominer/cyto_utils/util.py:61: UserWarning: Non-canonical compartment detected: per_cells, per_cytoplasm, per_nuclei\n",
      "  warnings.warn(warn_str)\n"
     ]
    }
   ],
   "source": [
    "sc_util.extract_single_cells(\n",
    "    single_cell_file=single_cell_file2,\n",
    "    linking_cols=linking_cols,\n",
    "    platemap_df=platemap_df,\n",
    "    output_folder=output_dir,\n",
    "    method_name=method2,\n",
    "    norm_feature_select=True,\n",
    ")"
   ]
  },
  {
   "attachments": {},
   "cell_type": "markdown",
   "id": "857eb935",
   "metadata": {},
   "source": [
    "## Perform extraction with PyBaSiC Cellpose method\n",
    "\n",
    "- Merge single cells\n",
    "- Normalize\n",
    "- Feature selection on normalized features"
   ]
  },
  {
   "cell_type": "code",
   "execution_count": 8,
   "id": "cf5d973e",
   "metadata": {},
   "outputs": [
    {
     "name": "stderr",
     "output_type": "stream",
     "text": [
      "/home/jenna/anaconda3/envs/4.process-nf1-features/lib/python3.8/site-packages/pycytominer/cyto_utils/util.py:61: UserWarning: Non-canonical compartment detected: per_cells, per_cytoplasm, per_nuclei\n",
      "  warnings.warn(warn_str)\n"
     ]
    }
   ],
   "source": [
    "sc_util.extract_single_cells(\n",
    "    single_cell_file=single_cell_file3,\n",
    "    linking_cols=linking_cols,\n",
    "    platemap_df=platemap_df,\n",
    "    output_folder=output_dir,\n",
    "    method_name=method3,\n",
    "    norm_feature_select=True,\n",
    ")"
   ]
  },
  {
   "attachments": {},
   "cell_type": "markdown",
   "id": "9417d082",
   "metadata": {},
   "source": [
    "## Perform extraction with CellProfiler Cellpose method\n",
    "\n",
    "- Merge single cells\n",
    "- Normalize\n",
    "- Feature selection on normalized features"
   ]
  },
  {
   "cell_type": "code",
   "execution_count": 9,
   "id": "5aa4f05f",
   "metadata": {},
   "outputs": [
    {
     "name": "stderr",
     "output_type": "stream",
     "text": [
      "/home/jenna/anaconda3/envs/4.process-nf1-features/lib/python3.8/site-packages/pycytominer/cyto_utils/util.py:61: UserWarning: Non-canonical compartment detected: per_cells, per_cytoplasm, per_nuclei\n",
      "  warnings.warn(warn_str)\n"
     ]
    }
   ],
   "source": [
    "sc_util.extract_single_cells(\n",
    "    single_cell_file=single_cell_file4,\n",
    "    linking_cols=linking_cols,\n",
    "    platemap_df=platemap_df,\n",
    "    output_folder=output_dir,\n",
    "    method_name=method4,\n",
    "    norm_feature_select=True,\n",
    ")"
   ]
  },
  {
   "attachments": {},
   "cell_type": "markdown",
   "id": "25bb9397",
   "metadata": {},
   "source": [
    "---\n",
    "## Visualize count statisitics"
   ]
  },
  {
   "attachments": {},
   "cell_type": "markdown",
   "id": "72aae046",
   "metadata": {},
   "source": [
    "### All CellProfiler"
   ]
  },
  {
   "cell_type": "code",
   "execution_count": 10,
   "id": "ff7c7427",
   "metadata": {},
   "outputs": [
    {
     "data": {
      "text/plain": [
       "Null    994\n",
       "WT      687\n",
       "Name: Metadata_genotype, dtype: int64"
      ]
     },
     "execution_count": 10,
     "metadata": {},
     "output_type": "execute_result"
    }
   ],
   "source": [
    "data_path = f\"{output_dir}/nf1_sc_{method1}.csv.gz\"\n",
    "data_df = pd.read_csv(data_path, compression=\"gzip\")\n",
    "\n",
    "data_df.Metadata_genotype.value_counts()"
   ]
  },
  {
   "cell_type": "code",
   "execution_count": 11,
   "id": "647b7c2d",
   "metadata": {},
   "outputs": [
    {
     "data": {
      "text/html": [
       "<div>\n",
       "<style scoped>\n",
       "    .dataframe tbody tr th:only-of-type {\n",
       "        vertical-align: middle;\n",
       "    }\n",
       "\n",
       "    .dataframe tbody tr th {\n",
       "        vertical-align: top;\n",
       "    }\n",
       "\n",
       "    .dataframe thead th {\n",
       "        text-align: right;\n",
       "    }\n",
       "</style>\n",
       "<table border=\"1\" class=\"dataframe\">\n",
       "  <thead>\n",
       "    <tr style=\"text-align: right;\">\n",
       "      <th>Metadata_Well</th>\n",
       "      <th>A1</th>\n",
       "      <th>A12</th>\n",
       "      <th>A6</th>\n",
       "      <th>A7</th>\n",
       "      <th>B1</th>\n",
       "      <th>B12</th>\n",
       "      <th>B6</th>\n",
       "      <th>B7</th>\n",
       "      <th>C1</th>\n",
       "      <th>C12</th>\n",
       "      <th>...</th>\n",
       "      <th>F6</th>\n",
       "      <th>F7</th>\n",
       "      <th>G1</th>\n",
       "      <th>G12</th>\n",
       "      <th>G6</th>\n",
       "      <th>G7</th>\n",
       "      <th>H1</th>\n",
       "      <th>H12</th>\n",
       "      <th>H6</th>\n",
       "      <th>H7</th>\n",
       "    </tr>\n",
       "    <tr>\n",
       "      <th>Metadata_genotype</th>\n",
       "      <th></th>\n",
       "      <th></th>\n",
       "      <th></th>\n",
       "      <th></th>\n",
       "      <th></th>\n",
       "      <th></th>\n",
       "      <th></th>\n",
       "      <th></th>\n",
       "      <th></th>\n",
       "      <th></th>\n",
       "      <th></th>\n",
       "      <th></th>\n",
       "      <th></th>\n",
       "      <th></th>\n",
       "      <th></th>\n",
       "      <th></th>\n",
       "      <th></th>\n",
       "      <th></th>\n",
       "      <th></th>\n",
       "      <th></th>\n",
       "      <th></th>\n",
       "    </tr>\n",
       "  </thead>\n",
       "  <tbody>\n",
       "    <tr>\n",
       "      <th>Null</th>\n",
       "      <td>0</td>\n",
       "      <td>44</td>\n",
       "      <td>0</td>\n",
       "      <td>52</td>\n",
       "      <td>0</td>\n",
       "      <td>47</td>\n",
       "      <td>0</td>\n",
       "      <td>61</td>\n",
       "      <td>0</td>\n",
       "      <td>62</td>\n",
       "      <td>...</td>\n",
       "      <td>0</td>\n",
       "      <td>74</td>\n",
       "      <td>0</td>\n",
       "      <td>53</td>\n",
       "      <td>0</td>\n",
       "      <td>73</td>\n",
       "      <td>0</td>\n",
       "      <td>52</td>\n",
       "      <td>0</td>\n",
       "      <td>58</td>\n",
       "    </tr>\n",
       "    <tr>\n",
       "      <th>WT</th>\n",
       "      <td>47</td>\n",
       "      <td>0</td>\n",
       "      <td>52</td>\n",
       "      <td>0</td>\n",
       "      <td>48</td>\n",
       "      <td>0</td>\n",
       "      <td>47</td>\n",
       "      <td>0</td>\n",
       "      <td>54</td>\n",
       "      <td>0</td>\n",
       "      <td>...</td>\n",
       "      <td>45</td>\n",
       "      <td>0</td>\n",
       "      <td>54</td>\n",
       "      <td>0</td>\n",
       "      <td>32</td>\n",
       "      <td>0</td>\n",
       "      <td>27</td>\n",
       "      <td>0</td>\n",
       "      <td>29</td>\n",
       "      <td>0</td>\n",
       "    </tr>\n",
       "  </tbody>\n",
       "</table>\n",
       "<p>2 rows × 32 columns</p>\n",
       "</div>"
      ],
      "text/plain": [
       "Metadata_Well      A1  A12  A6  A7  B1  B12  B6  B7  C1  C12  ...  F6  F7  G1  \\\n",
       "Metadata_genotype                                             ...               \n",
       "Null                0   44   0  52   0   47   0  61   0   62  ...   0  74   0   \n",
       "WT                 47    0  52   0  48    0  47   0  54    0  ...  45   0  54   \n",
       "\n",
       "Metadata_Well      G12  G6  G7  H1  H12  H6  H7  \n",
       "Metadata_genotype                                \n",
       "Null                53   0  73   0   52   0  58  \n",
       "WT                   0  32   0  27    0  29   0  \n",
       "\n",
       "[2 rows x 32 columns]"
      ]
     },
     "execution_count": 11,
     "metadata": {},
     "output_type": "execute_result"
    }
   ],
   "source": [
    "# visualize the single cell counts in each well per genotype\n",
    "pd.crosstab(data_df.Metadata_genotype, data_df.Metadata_Well)"
   ]
  },
  {
   "attachments": {},
   "cell_type": "markdown",
   "id": "d1ddd1c4",
   "metadata": {},
   "source": [
    "### PyBaSiC CellProfiler"
   ]
  },
  {
   "cell_type": "code",
   "execution_count": 12,
   "id": "ef8c9556",
   "metadata": {},
   "outputs": [
    {
     "data": {
      "text/plain": [
       "Null    1000\n",
       "WT       693\n",
       "Name: Metadata_genotype, dtype: int64"
      ]
     },
     "execution_count": 12,
     "metadata": {},
     "output_type": "execute_result"
    }
   ],
   "source": [
    "data_path = f\"{output_dir}/nf1_sc_{method2}.csv.gz\"\n",
    "data_df = pd.read_csv(data_path, compression=\"gzip\")\n",
    "\n",
    "data_df.Metadata_genotype.value_counts()"
   ]
  },
  {
   "cell_type": "code",
   "execution_count": 13,
   "id": "f0abf337",
   "metadata": {},
   "outputs": [
    {
     "data": {
      "text/html": [
       "<div>\n",
       "<style scoped>\n",
       "    .dataframe tbody tr th:only-of-type {\n",
       "        vertical-align: middle;\n",
       "    }\n",
       "\n",
       "    .dataframe tbody tr th {\n",
       "        vertical-align: top;\n",
       "    }\n",
       "\n",
       "    .dataframe thead th {\n",
       "        text-align: right;\n",
       "    }\n",
       "</style>\n",
       "<table border=\"1\" class=\"dataframe\">\n",
       "  <thead>\n",
       "    <tr style=\"text-align: right;\">\n",
       "      <th>Metadata_Well</th>\n",
       "      <th>A1</th>\n",
       "      <th>A12</th>\n",
       "      <th>A6</th>\n",
       "      <th>A7</th>\n",
       "      <th>B1</th>\n",
       "      <th>B12</th>\n",
       "      <th>B6</th>\n",
       "      <th>B7</th>\n",
       "      <th>C1</th>\n",
       "      <th>C12</th>\n",
       "      <th>...</th>\n",
       "      <th>F6</th>\n",
       "      <th>F7</th>\n",
       "      <th>G1</th>\n",
       "      <th>G12</th>\n",
       "      <th>G6</th>\n",
       "      <th>G7</th>\n",
       "      <th>H1</th>\n",
       "      <th>H12</th>\n",
       "      <th>H6</th>\n",
       "      <th>H7</th>\n",
       "    </tr>\n",
       "    <tr>\n",
       "      <th>Metadata_genotype</th>\n",
       "      <th></th>\n",
       "      <th></th>\n",
       "      <th></th>\n",
       "      <th></th>\n",
       "      <th></th>\n",
       "      <th></th>\n",
       "      <th></th>\n",
       "      <th></th>\n",
       "      <th></th>\n",
       "      <th></th>\n",
       "      <th></th>\n",
       "      <th></th>\n",
       "      <th></th>\n",
       "      <th></th>\n",
       "      <th></th>\n",
       "      <th></th>\n",
       "      <th></th>\n",
       "      <th></th>\n",
       "      <th></th>\n",
       "      <th></th>\n",
       "      <th></th>\n",
       "    </tr>\n",
       "  </thead>\n",
       "  <tbody>\n",
       "    <tr>\n",
       "      <th>Null</th>\n",
       "      <td>0</td>\n",
       "      <td>44</td>\n",
       "      <td>0</td>\n",
       "      <td>53</td>\n",
       "      <td>0</td>\n",
       "      <td>48</td>\n",
       "      <td>0</td>\n",
       "      <td>59</td>\n",
       "      <td>0</td>\n",
       "      <td>64</td>\n",
       "      <td>...</td>\n",
       "      <td>0</td>\n",
       "      <td>77</td>\n",
       "      <td>0</td>\n",
       "      <td>54</td>\n",
       "      <td>0</td>\n",
       "      <td>72</td>\n",
       "      <td>0</td>\n",
       "      <td>53</td>\n",
       "      <td>0</td>\n",
       "      <td>59</td>\n",
       "    </tr>\n",
       "    <tr>\n",
       "      <th>WT</th>\n",
       "      <td>48</td>\n",
       "      <td>0</td>\n",
       "      <td>51</td>\n",
       "      <td>0</td>\n",
       "      <td>49</td>\n",
       "      <td>0</td>\n",
       "      <td>48</td>\n",
       "      <td>0</td>\n",
       "      <td>55</td>\n",
       "      <td>0</td>\n",
       "      <td>...</td>\n",
       "      <td>44</td>\n",
       "      <td>0</td>\n",
       "      <td>55</td>\n",
       "      <td>0</td>\n",
       "      <td>33</td>\n",
       "      <td>0</td>\n",
       "      <td>26</td>\n",
       "      <td>0</td>\n",
       "      <td>29</td>\n",
       "      <td>0</td>\n",
       "    </tr>\n",
       "  </tbody>\n",
       "</table>\n",
       "<p>2 rows × 32 columns</p>\n",
       "</div>"
      ],
      "text/plain": [
       "Metadata_Well      A1  A12  A6  A7  B1  B12  B6  B7  C1  C12  ...  F6  F7  G1  \\\n",
       "Metadata_genotype                                             ...               \n",
       "Null                0   44   0  53   0   48   0  59   0   64  ...   0  77   0   \n",
       "WT                 48    0  51   0  49    0  48   0  55    0  ...  44   0  55   \n",
       "\n",
       "Metadata_Well      G12  G6  G7  H1  H12  H6  H7  \n",
       "Metadata_genotype                                \n",
       "Null                54   0  72   0   53   0  59  \n",
       "WT                   0  33   0  26    0  29   0  \n",
       "\n",
       "[2 rows x 32 columns]"
      ]
     },
     "execution_count": 13,
     "metadata": {},
     "output_type": "execute_result"
    }
   ],
   "source": [
    "pd.crosstab(data_df.Metadata_genotype, data_df.Metadata_Well)"
   ]
  },
  {
   "attachments": {},
   "cell_type": "markdown",
   "id": "e314847e",
   "metadata": {},
   "source": [
    "### PyBaSiC Cellpose"
   ]
  },
  {
   "cell_type": "code",
   "execution_count": 14,
   "id": "9604d042",
   "metadata": {},
   "outputs": [
    {
     "data": {
      "text/plain": [
       "Null    1024\n",
       "WT       717\n",
       "Name: Metadata_genotype, dtype: int64"
      ]
     },
     "execution_count": 14,
     "metadata": {},
     "output_type": "execute_result"
    }
   ],
   "source": [
    "data_path = f\"{output_dir}/nf1_sc_{method3}.csv.gz\"\n",
    "data_df = pd.read_csv(data_path, compression=\"gzip\")\n",
    "\n",
    "data_df.Metadata_genotype.value_counts()"
   ]
  },
  {
   "cell_type": "code",
   "execution_count": 15,
   "id": "87d99f68",
   "metadata": {},
   "outputs": [
    {
     "data": {
      "text/html": [
       "<div>\n",
       "<style scoped>\n",
       "    .dataframe tbody tr th:only-of-type {\n",
       "        vertical-align: middle;\n",
       "    }\n",
       "\n",
       "    .dataframe tbody tr th {\n",
       "        vertical-align: top;\n",
       "    }\n",
       "\n",
       "    .dataframe thead th {\n",
       "        text-align: right;\n",
       "    }\n",
       "</style>\n",
       "<table border=\"1\" class=\"dataframe\">\n",
       "  <thead>\n",
       "    <tr style=\"text-align: right;\">\n",
       "      <th>Metadata_Well</th>\n",
       "      <th>A1</th>\n",
       "      <th>A12</th>\n",
       "      <th>A6</th>\n",
       "      <th>A7</th>\n",
       "      <th>B1</th>\n",
       "      <th>B12</th>\n",
       "      <th>B6</th>\n",
       "      <th>B7</th>\n",
       "      <th>C1</th>\n",
       "      <th>C12</th>\n",
       "      <th>...</th>\n",
       "      <th>F6</th>\n",
       "      <th>F7</th>\n",
       "      <th>G1</th>\n",
       "      <th>G12</th>\n",
       "      <th>G6</th>\n",
       "      <th>G7</th>\n",
       "      <th>H1</th>\n",
       "      <th>H12</th>\n",
       "      <th>H6</th>\n",
       "      <th>H7</th>\n",
       "    </tr>\n",
       "    <tr>\n",
       "      <th>Metadata_genotype</th>\n",
       "      <th></th>\n",
       "      <th></th>\n",
       "      <th></th>\n",
       "      <th></th>\n",
       "      <th></th>\n",
       "      <th></th>\n",
       "      <th></th>\n",
       "      <th></th>\n",
       "      <th></th>\n",
       "      <th></th>\n",
       "      <th></th>\n",
       "      <th></th>\n",
       "      <th></th>\n",
       "      <th></th>\n",
       "      <th></th>\n",
       "      <th></th>\n",
       "      <th></th>\n",
       "      <th></th>\n",
       "      <th></th>\n",
       "      <th></th>\n",
       "      <th></th>\n",
       "    </tr>\n",
       "  </thead>\n",
       "  <tbody>\n",
       "    <tr>\n",
       "      <th>Null</th>\n",
       "      <td>0</td>\n",
       "      <td>51</td>\n",
       "      <td>0</td>\n",
       "      <td>58</td>\n",
       "      <td>0</td>\n",
       "      <td>50</td>\n",
       "      <td>0</td>\n",
       "      <td>62</td>\n",
       "      <td>0</td>\n",
       "      <td>66</td>\n",
       "      <td>...</td>\n",
       "      <td>0</td>\n",
       "      <td>78</td>\n",
       "      <td>0</td>\n",
       "      <td>54</td>\n",
       "      <td>0</td>\n",
       "      <td>68</td>\n",
       "      <td>0</td>\n",
       "      <td>52</td>\n",
       "      <td>0</td>\n",
       "      <td>62</td>\n",
       "    </tr>\n",
       "    <tr>\n",
       "      <th>WT</th>\n",
       "      <td>53</td>\n",
       "      <td>0</td>\n",
       "      <td>51</td>\n",
       "      <td>0</td>\n",
       "      <td>53</td>\n",
       "      <td>0</td>\n",
       "      <td>51</td>\n",
       "      <td>0</td>\n",
       "      <td>56</td>\n",
       "      <td>0</td>\n",
       "      <td>...</td>\n",
       "      <td>41</td>\n",
       "      <td>0</td>\n",
       "      <td>58</td>\n",
       "      <td>0</td>\n",
       "      <td>38</td>\n",
       "      <td>0</td>\n",
       "      <td>30</td>\n",
       "      <td>0</td>\n",
       "      <td>28</td>\n",
       "      <td>0</td>\n",
       "    </tr>\n",
       "  </tbody>\n",
       "</table>\n",
       "<p>2 rows × 32 columns</p>\n",
       "</div>"
      ],
      "text/plain": [
       "Metadata_Well      A1  A12  A6  A7  B1  B12  B6  B7  C1  C12  ...  F6  F7  G1  \\\n",
       "Metadata_genotype                                             ...               \n",
       "Null                0   51   0  58   0   50   0  62   0   66  ...   0  78   0   \n",
       "WT                 53    0  51   0  53    0  51   0  56    0  ...  41   0  58   \n",
       "\n",
       "Metadata_Well      G12  G6  G7  H1  H12  H6  H7  \n",
       "Metadata_genotype                                \n",
       "Null                54   0  68   0   52   0  62  \n",
       "WT                   0  38   0  30    0  28   0  \n",
       "\n",
       "[2 rows x 32 columns]"
      ]
     },
     "execution_count": 15,
     "metadata": {},
     "output_type": "execute_result"
    }
   ],
   "source": [
    "pd.crosstab(data_df.Metadata_genotype, data_df.Metadata_Well)"
   ]
  },
  {
   "attachments": {},
   "cell_type": "markdown",
   "id": "544b96cd",
   "metadata": {},
   "source": [
    "### CellProfiler Cellpose"
   ]
  },
  {
   "cell_type": "code",
   "execution_count": 16,
   "id": "c20fcd95",
   "metadata": {},
   "outputs": [
    {
     "data": {
      "text/plain": [
       "Null    1030\n",
       "WT       727\n",
       "Name: Metadata_genotype, dtype: int64"
      ]
     },
     "execution_count": 16,
     "metadata": {},
     "output_type": "execute_result"
    }
   ],
   "source": [
    "data_path = f\"{output_dir}/nf1_sc_{method4}.csv.gz\"\n",
    "data_df = pd.read_csv(data_path, compression=\"gzip\")\n",
    "\n",
    "data_df.Metadata_genotype.value_counts()"
   ]
  },
  {
   "cell_type": "code",
   "execution_count": 17,
   "id": "eade851c",
   "metadata": {},
   "outputs": [
    {
     "data": {
      "text/html": [
       "<div>\n",
       "<style scoped>\n",
       "    .dataframe tbody tr th:only-of-type {\n",
       "        vertical-align: middle;\n",
       "    }\n",
       "\n",
       "    .dataframe tbody tr th {\n",
       "        vertical-align: top;\n",
       "    }\n",
       "\n",
       "    .dataframe thead th {\n",
       "        text-align: right;\n",
       "    }\n",
       "</style>\n",
       "<table border=\"1\" class=\"dataframe\">\n",
       "  <thead>\n",
       "    <tr style=\"text-align: right;\">\n",
       "      <th>Metadata_Well</th>\n",
       "      <th>A1</th>\n",
       "      <th>A12</th>\n",
       "      <th>A6</th>\n",
       "      <th>A7</th>\n",
       "      <th>B1</th>\n",
       "      <th>B12</th>\n",
       "      <th>B6</th>\n",
       "      <th>B7</th>\n",
       "      <th>C1</th>\n",
       "      <th>C12</th>\n",
       "      <th>...</th>\n",
       "      <th>F6</th>\n",
       "      <th>F7</th>\n",
       "      <th>G1</th>\n",
       "      <th>G12</th>\n",
       "      <th>G6</th>\n",
       "      <th>G7</th>\n",
       "      <th>H1</th>\n",
       "      <th>H12</th>\n",
       "      <th>H6</th>\n",
       "      <th>H7</th>\n",
       "    </tr>\n",
       "    <tr>\n",
       "      <th>Metadata_genotype</th>\n",
       "      <th></th>\n",
       "      <th></th>\n",
       "      <th></th>\n",
       "      <th></th>\n",
       "      <th></th>\n",
       "      <th></th>\n",
       "      <th></th>\n",
       "      <th></th>\n",
       "      <th></th>\n",
       "      <th></th>\n",
       "      <th></th>\n",
       "      <th></th>\n",
       "      <th></th>\n",
       "      <th></th>\n",
       "      <th></th>\n",
       "      <th></th>\n",
       "      <th></th>\n",
       "      <th></th>\n",
       "      <th></th>\n",
       "      <th></th>\n",
       "      <th></th>\n",
       "    </tr>\n",
       "  </thead>\n",
       "  <tbody>\n",
       "    <tr>\n",
       "      <th>Null</th>\n",
       "      <td>0</td>\n",
       "      <td>51</td>\n",
       "      <td>0</td>\n",
       "      <td>59</td>\n",
       "      <td>0</td>\n",
       "      <td>50</td>\n",
       "      <td>0</td>\n",
       "      <td>65</td>\n",
       "      <td>0</td>\n",
       "      <td>66</td>\n",
       "      <td>...</td>\n",
       "      <td>0</td>\n",
       "      <td>79</td>\n",
       "      <td>0</td>\n",
       "      <td>54</td>\n",
       "      <td>0</td>\n",
       "      <td>68</td>\n",
       "      <td>0</td>\n",
       "      <td>53</td>\n",
       "      <td>0</td>\n",
       "      <td>62</td>\n",
       "    </tr>\n",
       "    <tr>\n",
       "      <th>WT</th>\n",
       "      <td>54</td>\n",
       "      <td>0</td>\n",
       "      <td>52</td>\n",
       "      <td>0</td>\n",
       "      <td>54</td>\n",
       "      <td>0</td>\n",
       "      <td>52</td>\n",
       "      <td>0</td>\n",
       "      <td>57</td>\n",
       "      <td>0</td>\n",
       "      <td>...</td>\n",
       "      <td>41</td>\n",
       "      <td>0</td>\n",
       "      <td>59</td>\n",
       "      <td>0</td>\n",
       "      <td>38</td>\n",
       "      <td>0</td>\n",
       "      <td>30</td>\n",
       "      <td>0</td>\n",
       "      <td>28</td>\n",
       "      <td>0</td>\n",
       "    </tr>\n",
       "  </tbody>\n",
       "</table>\n",
       "<p>2 rows × 32 columns</p>\n",
       "</div>"
      ],
      "text/plain": [
       "Metadata_Well      A1  A12  A6  A7  B1  B12  B6  B7  C1  C12  ...  F6  F7  G1  \\\n",
       "Metadata_genotype                                             ...               \n",
       "Null                0   51   0  59   0   50   0  65   0   66  ...   0  79   0   \n",
       "WT                 54    0  52   0  54    0  52   0  57    0  ...  41   0  59   \n",
       "\n",
       "Metadata_Well      G12  G6  G7  H1  H12  H6  H7  \n",
       "Metadata_genotype                                \n",
       "Null                54   0  68   0   53   0  62  \n",
       "WT                   0  38   0  30    0  28   0  \n",
       "\n",
       "[2 rows x 32 columns]"
      ]
     },
     "execution_count": 17,
     "metadata": {},
     "output_type": "execute_result"
    }
   ],
   "source": [
    "pd.crosstab(data_df.Metadata_genotype, data_df.Metadata_Well)"
   ]
  }
 ],
 "metadata": {
  "kernelspec": {
   "display_name": "4.process-nf1-features",
   "language": "python",
   "name": "python3"
  },
  "language_info": {
   "codemirror_mode": {
    "name": "ipython",
    "version": 3
   },
   "file_extension": ".py",
   "mimetype": "text/x-python",
   "name": "python",
   "nbconvert_exporter": "python",
   "pygments_lexer": "ipython3",
   "version": "3.8.13"
  },
  "vscode": {
   "interpreter": {
    "hash": "6e6aca846613de2bb537f4a3be07c319e65610ef8366b19567099a39e74b14d7"
   }
  }
 },
 "nbformat": 4,
 "nbformat_minor": 5
}
