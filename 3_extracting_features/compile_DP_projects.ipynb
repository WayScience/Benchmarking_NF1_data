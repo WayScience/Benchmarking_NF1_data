{
 "cells": [
  {
   "cell_type": "markdown",
   "metadata": {},
   "source": [
    "# Compile NF1 Projects for Nuclei and Cytoplasm - DeepProfiler"
   ]
  },
  {
   "cell_type": "markdown",
   "metadata": {},
   "source": [
    "### Import Libraries"
   ]
  },
  {
   "cell_type": "code",
   "execution_count": 1,
   "metadata": {},
   "outputs": [],
   "source": [
    "import pathlib\n",
    "import pandas as pd\n",
    "\n",
    "import importlib\n",
    "\n",
    "dp = importlib.import_module(\"DPutils\")"
   ]
  },
  {
   "cell_type": "markdown",
   "metadata": {},
   "source": [
    "### Define Project Paths"
   ]
  },
  {
   "cell_type": "code",
   "execution_count": 2,
   "metadata": {},
   "outputs": [],
   "source": [
    "# These paths are where all of the DeepProfiler folders and results will be located for each project\n",
    "nuc_project_path = pathlib.Path(\"NF1_nuc_project-DP\")\n",
    "cyto_project_path = pathlib.Path(\"NF1_cyto_project-DP\")"
   ]
  },
  {
   "cell_type": "markdown",
   "metadata": {},
   "source": [
    "### Define Paths for `compile_project` Parameters"
   ]
  },
  {
   "cell_type": "code",
   "execution_count": 3,
   "metadata": {},
   "outputs": [],
   "source": [
    "checkpoint_name = \"efficientnet-b0_weights_tf_dim_ordering_tf_kernels_autoaugment.h5\"\n",
    "annotations_path = pathlib.Path(\"metadata/NF1_annotations.csv\")\n",
    "images_load_path = pathlib.Path(\"../1_preprocessing_data/Corrected_Images/\")\n",
    "segmentation_data_path = pathlib.Path(\"../2_segmenting_data/Segmented_Images/\")"
   ]
  },
  {
   "cell_type": "markdown",
   "metadata": {},
   "source": [
    "### Compile Nucleus DeepProfiler Project"
   ]
  },
  {
   "cell_type": "code",
   "execution_count": 4,
   "metadata": {},
   "outputs": [
    {
     "name": "stdout",
     "output_type": "stream",
     "text": [
      "compiling index.csv file...\n",
      "index.csv file saved!\n",
      "Compiling locations!\n",
      "Compiling locations for 1 + D6_3\n",
      "Compiling locations for 1 + F6_2\n",
      "Compiling locations for 1 + E7_3\n",
      "Compiling locations for 1 + C6_2\n",
      "Compiling locations for 1 + C7_1\n",
      "Compiling locations for 1 + C7_4\n",
      "Compiling locations for 1 + E6_3\n",
      "Compiling locations for 1 + C6_1\n",
      "Compiling locations for 1 + E7_4\n",
      "Compiling locations for 1 + E7_1\n",
      "Compiling locations for 1 + C6_4\n",
      "Compiling locations for 1 + F7_1\n",
      "Compiling locations for 1 + D7_1\n",
      "Compiling locations for 1 + E6_1\n",
      "Compiling locations for 1 + F6_4\n",
      "Compiling locations for 1 + F7_4\n",
      "Compiling locations for 1 + C6_3\n",
      "Compiling locations for 1 + F6_3\n",
      "Compiling locations for 1 + D6_2\n",
      "Compiling locations for 1 + C7_2\n",
      "Compiling locations for 1 + F7_2\n",
      "Compiling locations for 1 + E6_4\n",
      "Compiling locations for 1 + D6_4\n",
      "Compiling locations for 1 + D6_1\n",
      "Compiling locations for 1 + E6_2\n",
      "Compiling locations for 1 + F6_1\n",
      "Compiling locations for 1 + F7_3\n",
      "Compiling locations for 1 + C7_3\n",
      "Compiling locations for 1 + D7_2\n",
      "Compiling locations for 1 + D7_4\n",
      "Compiling locations for 1 + D7_3\n",
      "Compiling locations for 1 + E7_2\n",
      "Done compiling locations!\n"
     ]
    }
   ],
   "source": [
    "object1 = \"nuc\"\n",
    "\n",
    "dp.compile_project(\n",
    "    nuc_project_path,\n",
    "    checkpoint_name,\n",
    "    annotations_path,\n",
    "    images_load_path,\n",
    "    segmentation_data_path,\n",
    "    object1,\n",
    ")"
   ]
  },
  {
   "cell_type": "markdown",
   "metadata": {},
   "source": [
    "### Compile Cytoplasm DeepProfiler Project"
   ]
  },
  {
   "cell_type": "code",
   "execution_count": 5,
   "metadata": {},
   "outputs": [
    {
     "name": "stdout",
     "output_type": "stream",
     "text": [
      "compiling index.csv file...\n",
      "index.csv file saved!\n",
      "Compiling locations!\n",
      "Compiling locations for 1 + D6_3\n",
      "Compiling locations for 1 + F6_2\n",
      "Compiling locations for 1 + E7_3\n",
      "Compiling locations for 1 + C6_2\n",
      "Compiling locations for 1 + C7_1\n",
      "Compiling locations for 1 + C7_4\n",
      "Compiling locations for 1 + E6_3\n",
      "Compiling locations for 1 + C6_1\n",
      "Compiling locations for 1 + E7_4\n",
      "Compiling locations for 1 + E7_1\n",
      "Compiling locations for 1 + C6_4\n",
      "Compiling locations for 1 + F7_1\n",
      "Compiling locations for 1 + D7_1\n",
      "Compiling locations for 1 + E6_1\n",
      "Compiling locations for 1 + F6_4\n",
      "Compiling locations for 1 + F7_4\n",
      "Compiling locations for 1 + C6_3\n",
      "Compiling locations for 1 + F6_3\n",
      "Compiling locations for 1 + D6_2\n",
      "Compiling locations for 1 + C7_2\n",
      "Compiling locations for 1 + F7_2\n",
      "Compiling locations for 1 + E6_4\n",
      "Compiling locations for 1 + D6_4\n",
      "Compiling locations for 1 + D6_1\n",
      "Compiling locations for 1 + E6_2\n",
      "Compiling locations for 1 + F6_1\n",
      "Compiling locations for 1 + F7_3\n",
      "Compiling locations for 1 + C7_3\n",
      "Compiling locations for 1 + D7_2\n",
      "Compiling locations for 1 + D7_4\n",
      "Compiling locations for 1 + D7_3\n",
      "Compiling locations for 1 + E7_2\n",
      "Done compiling locations!\n"
     ]
    }
   ],
   "source": [
    "object2 = \"cyto\"\n",
    "\n",
    "dp.compile_project(\n",
    "    cyto_project_path,\n",
    "    checkpoint_name,\n",
    "    annotations_path,\n",
    "    images_load_path,\n",
    "    segmentation_data_path,\n",
    "    object2,\n",
    ")"
   ]
  }
 ],
 "metadata": {
  "kernelspec": {
   "display_name": "Python 3.8.13 ('3.feature-extraction-NF1')",
   "language": "python",
   "name": "python3"
  },
  "language_info": {
   "codemirror_mode": {
    "name": "ipython",
    "version": 3
   },
   "file_extension": ".py",
   "mimetype": "text/x-python",
   "name": "python",
   "nbconvert_exporter": "python",
   "pygments_lexer": "ipython3",
   "version": "3.8.13"
  },
  "orig_nbformat": 4,
  "vscode": {
   "interpreter": {
    "hash": "07287d3d53805712e5f12605dc1ae8f1d238b153ace9542d6736ac23e3b05c95"
   }
  }
 },
 "nbformat": 4,
 "nbformat_minor": 2
}
