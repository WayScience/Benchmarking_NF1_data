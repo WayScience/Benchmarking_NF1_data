{
 "cells": [
  {
   "attachments": {},
   "cell_type": "markdown",
   "metadata": {},
   "source": [
    "# Add single cell counts has metadata for NF1 data\n",
    "\n",
    "- In this notebook, we add a metadata column for the number of single cells in a well into the normalized and feature selected data."
   ]
  },
  {
   "attachments": {},
   "cell_type": "markdown",
   "metadata": {},
   "source": [
    "## Import libraries"
   ]
  },
  {
   "cell_type": "code",
   "execution_count": 1,
   "metadata": {},
   "outputs": [],
   "source": [
    "import pathlib\n",
    "import pandas as pd\n",
    "\n",
    "import sys\n",
    "sys.path.append(\"../../\")\n",
    "import analysisutils as utils"
   ]
  },
  {
   "attachments": {},
   "cell_type": "markdown",
   "metadata": {},
   "source": [
    "## Set paths"
   ]
  },
  {
   "cell_type": "code",
   "execution_count": 2,
   "metadata": {},
   "outputs": [],
   "source": [
    "raw_data_path = pathlib.Path(\"../../../4_processing_features/data/nf1_sc_cellprofiler.csv.gz\")\n",
    "norm_data_path = pathlib.Path(\"../../../4_processing_features/data/nf1_sc_norm_cellprofiler.csv.gz\")\n",
    "norm_fs_data_path = pathlib.Path(\"../../../4_processing_features/data/nf1_sc_norm_fs_cellprofiler.csv.gz\")"
   ]
  },
  {
   "attachments": {},
   "cell_type": "markdown",
   "metadata": {},
   "source": [
    "## Read in `.csv` files\n",
    "\n",
    "- The files loaded in include the raw data, normalized, and normalized with feature selection"
   ]
  },
  {
   "cell_type": "code",
   "execution_count": 3,
   "metadata": {},
   "outputs": [],
   "source": [
    "# Path to raw data\n",
    "raw_data = pd.read_csv(raw_data_path, compression=\"gzip\", index_col=0)\n",
    "# need to reset index to remove \"Metadata_WellRow\" as the index\n",
    "raw_data_ = raw_data.reset_index()\n",
    "\n",
    "# Path to normalized data\n",
    "norm_data = pd.read_csv(norm_data_path, compression=\"gzip\", index_col=0)\n",
    "# need to reset index to remove \"Metadata_WellRow\" as the index\n",
    "norm_data = norm_data.reset_index()\n",
    "\n",
    "norm_fs_data = pd.read_csv(norm_fs_data_path, compression=\"gzip\", index_col=0)\n",
    "# need to reset index to remove \"Metadata_WellRow\" as the index\n",
    "norm_fs_data = norm_fs_data.reset_index()\n"
   ]
  },
  {
   "attachments": {},
   "cell_type": "markdown",
   "metadata": {},
   "source": [
    "## Find counts based on the well"
   ]
  },
  {
   "cell_type": "code",
   "execution_count": 4,
   "metadata": {},
   "outputs": [
    {
     "data": {
      "text/html": [
       "<div>\n",
       "<style scoped>\n",
       "    .dataframe tbody tr th:only-of-type {\n",
       "        vertical-align: middle;\n",
       "    }\n",
       "\n",
       "    .dataframe tbody tr th {\n",
       "        vertical-align: top;\n",
       "    }\n",
       "\n",
       "    .dataframe thead th {\n",
       "        text-align: right;\n",
       "    }\n",
       "</style>\n",
       "<table border=\"1\" class=\"dataframe\">\n",
       "  <thead>\n",
       "    <tr style=\"text-align: right;\">\n",
       "      <th></th>\n",
       "      <th>Metadata_WellRow</th>\n",
       "      <th>Metadata_WellCol</th>\n",
       "      <th>Metadata_Well</th>\n",
       "      <th>Metadata_number_of_singlecells</th>\n",
       "    </tr>\n",
       "  </thead>\n",
       "  <tbody>\n",
       "    <tr>\n",
       "      <th>0</th>\n",
       "      <td>C</td>\n",
       "      <td>6</td>\n",
       "      <td>C6</td>\n",
       "      <td>12</td>\n",
       "    </tr>\n",
       "    <tr>\n",
       "      <th>1</th>\n",
       "      <td>C</td>\n",
       "      <td>7</td>\n",
       "      <td>C7</td>\n",
       "      <td>12</td>\n",
       "    </tr>\n",
       "    <tr>\n",
       "      <th>2</th>\n",
       "      <td>D</td>\n",
       "      <td>6</td>\n",
       "      <td>D6</td>\n",
       "      <td>5</td>\n",
       "    </tr>\n",
       "    <tr>\n",
       "      <th>3</th>\n",
       "      <td>D</td>\n",
       "      <td>7</td>\n",
       "      <td>D7</td>\n",
       "      <td>14</td>\n",
       "    </tr>\n",
       "    <tr>\n",
       "      <th>4</th>\n",
       "      <td>E</td>\n",
       "      <td>6</td>\n",
       "      <td>E6</td>\n",
       "      <td>9</td>\n",
       "    </tr>\n",
       "    <tr>\n",
       "      <th>5</th>\n",
       "      <td>E</td>\n",
       "      <td>7</td>\n",
       "      <td>E7</td>\n",
       "      <td>44</td>\n",
       "    </tr>\n",
       "    <tr>\n",
       "      <th>6</th>\n",
       "      <td>F</td>\n",
       "      <td>6</td>\n",
       "      <td>F6</td>\n",
       "      <td>7</td>\n",
       "    </tr>\n",
       "    <tr>\n",
       "      <th>7</th>\n",
       "      <td>F</td>\n",
       "      <td>7</td>\n",
       "      <td>F7</td>\n",
       "      <td>46</td>\n",
       "    </tr>\n",
       "  </tbody>\n",
       "</table>\n",
       "</div>"
      ],
      "text/plain": [
       "  Metadata_WellRow  Metadata_WellCol Metadata_Well  \\\n",
       "0                C                 6            C6   \n",
       "1                C                 7            C7   \n",
       "2                D                 6            D6   \n",
       "3                D                 7            D7   \n",
       "4                E                 6            E6   \n",
       "5                E                 7            E7   \n",
       "6                F                 6            F6   \n",
       "7                F                 7            F7   \n",
       "\n",
       "   Metadata_number_of_singlecells  \n",
       "0                              12  \n",
       "1                              12  \n",
       "2                               5  \n",
       "3                              14  \n",
       "4                               9  \n",
       "5                              44  \n",
       "6                               7  \n",
       "7                              46  "
      ]
     },
     "execution_count": 4,
     "metadata": {},
     "output_type": "execute_result"
    }
   ],
   "source": [
    "grouped_data = norm_data.groupby([\"Metadata_WellRow\", \"Metadata_WellCol\", \"Metadata_Well\"])['Metadata_WellRow'].count().reset_index(name='Metadata_number_of_singlecells')\n",
    "grouped_data"
   ]
  },
  {
   "attachments": {},
   "cell_type": "markdown",
   "metadata": {},
   "source": [
    "## Assign number of single cells to respective well"
   ]
  },
  {
   "cell_type": "code",
   "execution_count": 5,
   "metadata": {},
   "outputs": [],
   "source": [
    "number_sc = []\n",
    "for row in norm_data['Metadata_Well']:\n",
    "    if row == 'C6' :    number_sc.append(12)\n",
    "    elif row == 'C7':   number_sc.append(12)\n",
    "    elif row == 'D6':   number_sc.append(5)\n",
    "    elif row == 'D7':   number_sc.append(14)\n",
    "    elif row == 'E6':   number_sc.append(9)\n",
    "    elif row == 'E7':   number_sc.append(44)\n",
    "    elif row == 'F6':   number_sc.append(7)\n",
    "    elif row == 'F7':   number_sc.append(46)"
   ]
  },
  {
   "attachments": {},
   "cell_type": "markdown",
   "metadata": {},
   "source": [
    "## Insert the metadata for number of single cells into each `.csv`"
   ]
  },
  {
   "cell_type": "code",
   "execution_count": 6,
   "metadata": {},
   "outputs": [],
   "source": [
    "raw_data.insert(2, \"Metadata_number_of_singlecells\", number_sc)\n",
    "norm_data.insert(2, \"Metadata_number_of_singlecells\", number_sc)\n",
    "norm_fs_data.insert(2, \"Metadata_number_of_singlecells\", number_sc)"
   ]
  },
  {
   "attachments": {},
   "cell_type": "markdown",
   "metadata": {},
   "source": [
    "## Save `.csv` files with the new metadata column"
   ]
  },
  {
   "cell_type": "code",
   "execution_count": 7,
   "metadata": {},
   "outputs": [],
   "source": [
    "output_dir = pathlib.Path(\"../../../4_processing_features/data\")\n",
    "\n",
    "raw_output = pathlib.Path(f\"{output_dir}/nf1_sc_cellprofiler.csv.gz\")\n",
    "norm_output = pathlib.Path(f\"{output_dir}/nf1_sc_norm_cellprofiler.csv.gz\")\n",
    "norm_feature_select_output = pathlib.Path(f\"{output_dir}/nf1_sc_norm_fs_cellprofiler.csv.gz\")\n",
    "\n",
    "raw_data.to_csv(raw_output)\n",
    "norm_data.to_csv(norm_output)\n",
    "norm_fs_data.to_csv(norm_feature_select_output)"
   ]
  }
 ],
 "metadata": {
  "kernelspec": {
   "display_name": "5.analyze_data_NF1",
   "language": "python",
   "name": "python3"
  },
  "language_info": {
   "codemirror_mode": {
    "name": "ipython",
    "version": 3
   },
   "file_extension": ".py",
   "mimetype": "text/x-python",
   "name": "python",
   "nbconvert_exporter": "python",
   "pygments_lexer": "ipython3",
   "version": "3.8.13 | packaged by conda-forge | (default, Mar 25 2022, 06:04:18) \n[GCC 10.3.0]"
  },
  "orig_nbformat": 4,
  "vscode": {
   "interpreter": {
    "hash": "495b583898d66177f47df445b7c8c0b416776ea33f4389aad0cf05d95d26d77c"
   }
  }
 },
 "nbformat": 4,
 "nbformat_minor": 2
}
