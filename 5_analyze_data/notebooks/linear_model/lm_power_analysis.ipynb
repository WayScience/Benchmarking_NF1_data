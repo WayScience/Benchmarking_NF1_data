{
 "cells": [
  {
   "cell_type": "markdown",
   "id": "6d8c06ac-5ac2-4362-b202-4e2b03a0b44f",
   "metadata": {},
   "source": [
    "# Calculate power analysis given Linear Model effect sizes"
   ]
  },
  {
   "cell_type": "code",
   "execution_count": 1,
   "id": "f7ab7821-99f2-4a87-830c-18a8ed5044b9",
   "metadata": {},
   "outputs": [],
   "source": [
    "library(pwr)\n",
    "suppressPackageStartupMessages(library(dplyr))"
   ]
  },
  {
   "cell_type": "code",
   "execution_count": 2,
   "id": "f271a7e3-572f-4c8a-9559-8a51f135e6e5",
   "metadata": {},
   "outputs": [],
   "source": [
    "output_file <- file.path(\"results\", \"power_analysis_cp_features_lm.tsv\")\n",
    "output_dp_file <- file.path(\"results\", \"power_analysis_dp_cyto_features_lm.tsv\")"
   ]
  },
  {
   "cell_type": "markdown",
   "id": "bf64d270-ffe7-4806-9d0b-b9250f5188bd",
   "metadata": {},
   "source": [
    "## Perform power analysis for CP features"
   ]
  },
  {
   "cell_type": "code",
   "execution_count": 3,
   "id": "438aebc8-73c0-489a-8a95-78ea47cd51bc",
   "metadata": {},
   "outputs": [
    {
     "name": "stdout",
     "output_type": "stream",
     "text": [
      "[1] 1043    5\n"
     ]
    },
    {
     "data": {
      "text/html": [
       "<table class=\"dataframe\">\n",
       "<caption>A tibble: 6 × 5</caption>\n",
       "<thead>\n",
       "\t<tr><th scope=col>feature</th><th scope=col>r2_score</th><th scope=col>cell_count_coef</th><th scope=col>Null_coef</th><th scope=col>WT_coef</th></tr>\n",
       "\t<tr><th scope=col>&lt;chr&gt;</th><th scope=col>&lt;dbl&gt;</th><th scope=col>&lt;dbl&gt;</th><th scope=col>&lt;dbl&gt;</th><th scope=col>&lt;dbl&gt;</th></tr>\n",
       "</thead>\n",
       "<tbody>\n",
       "\t<tr><td>Cytoplasm_Number_Object_Number          </td><td>0.309208943</td><td> 0.033454088</td><td>-0.01216966</td><td> 0.01216966</td></tr>\n",
       "\t<tr><td>Cytoplasm_AreaShape_Area                </td><td>0.316174998</td><td>-0.026660590</td><td>-0.17619770</td><td> 0.17619770</td></tr>\n",
       "\t<tr><td>Cytoplasm_AreaShape_BoundingBoxArea     </td><td>0.167981769</td><td>-0.022168935</td><td>-0.05959405</td><td> 0.05959405</td></tr>\n",
       "\t<tr><td>Cytoplasm_AreaShape_BoundingBoxMaximum_X</td><td>0.008340445</td><td> 0.002454425</td><td>-0.13958882</td><td> 0.13958882</td></tr>\n",
       "\t<tr><td>Cytoplasm_AreaShape_BoundingBoxMaximum_Y</td><td>0.001684550</td><td>-0.003408135</td><td> 0.04023927</td><td>-0.04023927</td></tr>\n",
       "\t<tr><td>Cytoplasm_AreaShape_BoundingBoxMinimum_X</td><td>0.005920801</td><td> 0.006485507</td><td>-0.08859939</td><td> 0.08859939</td></tr>\n",
       "</tbody>\n",
       "</table>\n"
      ],
      "text/latex": [
       "A tibble: 6 × 5\n",
       "\\begin{tabular}{lllll}\n",
       " feature & r2\\_score & cell\\_count\\_coef & Null\\_coef & WT\\_coef\\\\\n",
       " <chr> & <dbl> & <dbl> & <dbl> & <dbl>\\\\\n",
       "\\hline\n",
       "\t Cytoplasm\\_Number\\_Object\\_Number           & 0.309208943 &  0.033454088 & -0.01216966 &  0.01216966\\\\\n",
       "\t Cytoplasm\\_AreaShape\\_Area                 & 0.316174998 & -0.026660590 & -0.17619770 &  0.17619770\\\\\n",
       "\t Cytoplasm\\_AreaShape\\_BoundingBoxArea      & 0.167981769 & -0.022168935 & -0.05959405 &  0.05959405\\\\\n",
       "\t Cytoplasm\\_AreaShape\\_BoundingBoxMaximum\\_X & 0.008340445 &  0.002454425 & -0.13958882 &  0.13958882\\\\\n",
       "\t Cytoplasm\\_AreaShape\\_BoundingBoxMaximum\\_Y & 0.001684550 & -0.003408135 &  0.04023927 & -0.04023927\\\\\n",
       "\t Cytoplasm\\_AreaShape\\_BoundingBoxMinimum\\_X & 0.005920801 &  0.006485507 & -0.08859939 &  0.08859939\\\\\n",
       "\\end{tabular}\n"
      ],
      "text/markdown": [
       "\n",
       "A tibble: 6 × 5\n",
       "\n",
       "| feature &lt;chr&gt; | r2_score &lt;dbl&gt; | cell_count_coef &lt;dbl&gt; | Null_coef &lt;dbl&gt; | WT_coef &lt;dbl&gt; |\n",
       "|---|---|---|---|---|\n",
       "| Cytoplasm_Number_Object_Number           | 0.309208943 |  0.033454088 | -0.01216966 |  0.01216966 |\n",
       "| Cytoplasm_AreaShape_Area                 | 0.316174998 | -0.026660590 | -0.17619770 |  0.17619770 |\n",
       "| Cytoplasm_AreaShape_BoundingBoxArea      | 0.167981769 | -0.022168935 | -0.05959405 |  0.05959405 |\n",
       "| Cytoplasm_AreaShape_BoundingBoxMaximum_X | 0.008340445 |  0.002454425 | -0.13958882 |  0.13958882 |\n",
       "| Cytoplasm_AreaShape_BoundingBoxMaximum_Y | 0.001684550 | -0.003408135 |  0.04023927 | -0.04023927 |\n",
       "| Cytoplasm_AreaShape_BoundingBoxMinimum_X | 0.005920801 |  0.006485507 | -0.08859939 |  0.08859939 |\n",
       "\n"
      ],
      "text/plain": [
       "  feature                                  r2_score    cell_count_coef\n",
       "1 Cytoplasm_Number_Object_Number           0.309208943  0.033454088   \n",
       "2 Cytoplasm_AreaShape_Area                 0.316174998 -0.026660590   \n",
       "3 Cytoplasm_AreaShape_BoundingBoxArea      0.167981769 -0.022168935   \n",
       "4 Cytoplasm_AreaShape_BoundingBoxMaximum_X 0.008340445  0.002454425   \n",
       "5 Cytoplasm_AreaShape_BoundingBoxMaximum_Y 0.001684550 -0.003408135   \n",
       "6 Cytoplasm_AreaShape_BoundingBoxMinimum_X 0.005920801  0.006485507   \n",
       "  Null_coef   WT_coef    \n",
       "1 -0.01216966  0.01216966\n",
       "2 -0.17619770  0.17619770\n",
       "3 -0.05959405  0.05959405\n",
       "4 -0.13958882  0.13958882\n",
       "5  0.04023927 -0.04023927\n",
       "6 -0.08859939  0.08859939"
      ]
     },
     "metadata": {},
     "output_type": "display_data"
    }
   ],
   "source": [
    "# Load data\n",
    "lm_results_file <- file.path(\"results\", \"linear_model_cp_features.tsv\")\n",
    "lm_results_df <- readr::read_tsv(\n",
    "    lm_results_file,\n",
    "    col_types = readr::cols(.default=\"d\", feature=\"c\")\n",
    ")\n",
    "\n",
    "print(dim(lm_results_df))\n",
    "head(lm_results_df)"
   ]
  },
  {
   "cell_type": "code",
   "execution_count": 4,
   "id": "d5020a96-b180-49b7-9b22-382704daf365",
   "metadata": {},
   "outputs": [
    {
     "name": "stderr",
     "output_type": "stream",
     "text": [
      "\u001b[1m\u001b[22mNew names:\n",
      "\u001b[36m•\u001b[39m `` -> `...1`\n"
     ]
    },
    {
     "name": "stdout",
     "output_type": "stream",
     "text": [
      "[1]  149 1056\n"
     ]
    },
    {
     "data": {
      "text/html": [
       "<table class=\"dataframe\">\n",
       "<caption>A tibble: 3 × 1056</caption>\n",
       "<thead>\n",
       "\t<tr><th scope=col>...1</th><th scope=col>Metadata_WellRow</th><th scope=col>Metadata_WellCol</th><th scope=col>Metadata_number_of_singlecells</th><th scope=col>Metadata_gene_name</th><th scope=col>Metadata_genotype</th><th scope=col>Metadata_ImageNumber</th><th scope=col>Metadata_Plate</th><th scope=col>Metadata_Well</th><th scope=col>Metadata_Cytoplasm_Parent_Cells</th><th scope=col>⋯</th><th scope=col>Nuclei_Texture_SumVariance_RFP_3_02_256</th><th scope=col>Nuclei_Texture_SumVariance_RFP_3_03_256</th><th scope=col>Nuclei_Texture_Variance_GFP_3_00_256</th><th scope=col>Nuclei_Texture_Variance_GFP_3_01_256</th><th scope=col>Nuclei_Texture_Variance_GFP_3_02_256</th><th scope=col>Nuclei_Texture_Variance_GFP_3_03_256</th><th scope=col>Nuclei_Texture_Variance_RFP_3_00_256</th><th scope=col>Nuclei_Texture_Variance_RFP_3_01_256</th><th scope=col>Nuclei_Texture_Variance_RFP_3_02_256</th><th scope=col>Nuclei_Texture_Variance_RFP_3_03_256</th></tr>\n",
       "\t<tr><th scope=col>&lt;dbl&gt;</th><th scope=col>&lt;chr&gt;</th><th scope=col>&lt;chr&gt;</th><th scope=col>&lt;dbl&gt;</th><th scope=col>&lt;chr&gt;</th><th scope=col>&lt;chr&gt;</th><th scope=col>&lt;dbl&gt;</th><th scope=col>&lt;dbl&gt;</th><th scope=col>&lt;chr&gt;</th><th scope=col>&lt;dbl&gt;</th><th scope=col>⋯</th><th scope=col>&lt;dbl&gt;</th><th scope=col>&lt;dbl&gt;</th><th scope=col>&lt;dbl&gt;</th><th scope=col>&lt;dbl&gt;</th><th scope=col>&lt;dbl&gt;</th><th scope=col>&lt;dbl&gt;</th><th scope=col>&lt;dbl&gt;</th><th scope=col>&lt;dbl&gt;</th><th scope=col>&lt;dbl&gt;</th><th scope=col>&lt;dbl&gt;</th></tr>\n",
       "</thead>\n",
       "<tbody>\n",
       "\t<tr><td>0</td><td>C</td><td>6</td><td>12</td><td>NF1</td><td>WT</td><td>1</td><td>1</td><td>C6</td><td>1</td><td>⋯</td><td>3.1415403</td><td>3.2022729</td><td>-0.09735552</td><td>-0.096165089</td><td>-0.09420230</td><td>-0.10645635</td><td>3.3379688</td><td>3.3505284</td><td>3.2781681</td><td>3.3103705</td></tr>\n",
       "\t<tr><td>1</td><td>C</td><td>6</td><td>12</td><td>NF1</td><td>WT</td><td>1</td><td>1</td><td>C6</td><td>2</td><td>⋯</td><td>0.3159240</td><td>0.2586328</td><td>-0.08797075</td><td>-0.069492845</td><td>-0.06553894</td><td>-0.09537677</td><td>0.3147762</td><td>0.3139198</td><td>0.3484196</td><td>0.3186928</td></tr>\n",
       "\t<tr><td>2</td><td>C</td><td>6</td><td>12</td><td>NF1</td><td>WT</td><td>1</td><td>1</td><td>C6</td><td>3</td><td>⋯</td><td>0.2952335</td><td>0.3831610</td><td> 0.06525064</td><td> 0.005549586</td><td>-0.01521187</td><td>-0.02908654</td><td>0.3484921</td><td>0.3339402</td><td>0.3413119</td><td>0.3479994</td></tr>\n",
       "</tbody>\n",
       "</table>\n"
      ],
      "text/latex": [
       "A tibble: 3 × 1056\n",
       "\\begin{tabular}{lllllllllllllllllllll}\n",
       " ...1 & Metadata\\_WellRow & Metadata\\_WellCol & Metadata\\_number\\_of\\_singlecells & Metadata\\_gene\\_name & Metadata\\_genotype & Metadata\\_ImageNumber & Metadata\\_Plate & Metadata\\_Well & Metadata\\_Cytoplasm\\_Parent\\_Cells & ⋯ & Nuclei\\_Texture\\_SumVariance\\_RFP\\_3\\_02\\_256 & Nuclei\\_Texture\\_SumVariance\\_RFP\\_3\\_03\\_256 & Nuclei\\_Texture\\_Variance\\_GFP\\_3\\_00\\_256 & Nuclei\\_Texture\\_Variance\\_GFP\\_3\\_01\\_256 & Nuclei\\_Texture\\_Variance\\_GFP\\_3\\_02\\_256 & Nuclei\\_Texture\\_Variance\\_GFP\\_3\\_03\\_256 & Nuclei\\_Texture\\_Variance\\_RFP\\_3\\_00\\_256 & Nuclei\\_Texture\\_Variance\\_RFP\\_3\\_01\\_256 & Nuclei\\_Texture\\_Variance\\_RFP\\_3\\_02\\_256 & Nuclei\\_Texture\\_Variance\\_RFP\\_3\\_03\\_256\\\\\n",
       " <dbl> & <chr> & <chr> & <dbl> & <chr> & <chr> & <dbl> & <dbl> & <chr> & <dbl> & ⋯ & <dbl> & <dbl> & <dbl> & <dbl> & <dbl> & <dbl> & <dbl> & <dbl> & <dbl> & <dbl>\\\\\n",
       "\\hline\n",
       "\t 0 & C & 6 & 12 & NF1 & WT & 1 & 1 & C6 & 1 & ⋯ & 3.1415403 & 3.2022729 & -0.09735552 & -0.096165089 & -0.09420230 & -0.10645635 & 3.3379688 & 3.3505284 & 3.2781681 & 3.3103705\\\\\n",
       "\t 1 & C & 6 & 12 & NF1 & WT & 1 & 1 & C6 & 2 & ⋯ & 0.3159240 & 0.2586328 & -0.08797075 & -0.069492845 & -0.06553894 & -0.09537677 & 0.3147762 & 0.3139198 & 0.3484196 & 0.3186928\\\\\n",
       "\t 2 & C & 6 & 12 & NF1 & WT & 1 & 1 & C6 & 3 & ⋯ & 0.2952335 & 0.3831610 &  0.06525064 &  0.005549586 & -0.01521187 & -0.02908654 & 0.3484921 & 0.3339402 & 0.3413119 & 0.3479994\\\\\n",
       "\\end{tabular}\n"
      ],
      "text/markdown": [
       "\n",
       "A tibble: 3 × 1056\n",
       "\n",
       "| ...1 &lt;dbl&gt; | Metadata_WellRow &lt;chr&gt; | Metadata_WellCol &lt;chr&gt; | Metadata_number_of_singlecells &lt;dbl&gt; | Metadata_gene_name &lt;chr&gt; | Metadata_genotype &lt;chr&gt; | Metadata_ImageNumber &lt;dbl&gt; | Metadata_Plate &lt;dbl&gt; | Metadata_Well &lt;chr&gt; | Metadata_Cytoplasm_Parent_Cells &lt;dbl&gt; | ⋯ ⋯ | Nuclei_Texture_SumVariance_RFP_3_02_256 &lt;dbl&gt; | Nuclei_Texture_SumVariance_RFP_3_03_256 &lt;dbl&gt; | Nuclei_Texture_Variance_GFP_3_00_256 &lt;dbl&gt; | Nuclei_Texture_Variance_GFP_3_01_256 &lt;dbl&gt; | Nuclei_Texture_Variance_GFP_3_02_256 &lt;dbl&gt; | Nuclei_Texture_Variance_GFP_3_03_256 &lt;dbl&gt; | Nuclei_Texture_Variance_RFP_3_00_256 &lt;dbl&gt; | Nuclei_Texture_Variance_RFP_3_01_256 &lt;dbl&gt; | Nuclei_Texture_Variance_RFP_3_02_256 &lt;dbl&gt; | Nuclei_Texture_Variance_RFP_3_03_256 &lt;dbl&gt; |\n",
       "|---|---|---|---|---|---|---|---|---|---|---|---|---|---|---|---|---|---|---|---|---|\n",
       "| 0 | C | 6 | 12 | NF1 | WT | 1 | 1 | C6 | 1 | ⋯ | 3.1415403 | 3.2022729 | -0.09735552 | -0.096165089 | -0.09420230 | -0.10645635 | 3.3379688 | 3.3505284 | 3.2781681 | 3.3103705 |\n",
       "| 1 | C | 6 | 12 | NF1 | WT | 1 | 1 | C6 | 2 | ⋯ | 0.3159240 | 0.2586328 | -0.08797075 | -0.069492845 | -0.06553894 | -0.09537677 | 0.3147762 | 0.3139198 | 0.3484196 | 0.3186928 |\n",
       "| 2 | C | 6 | 12 | NF1 | WT | 1 | 1 | C6 | 3 | ⋯ | 0.2952335 | 0.3831610 |  0.06525064 |  0.005549586 | -0.01521187 | -0.02908654 | 0.3484921 | 0.3339402 | 0.3413119 | 0.3479994 |\n",
       "\n"
      ],
      "text/plain": [
       "  ...1 Metadata_WellRow Metadata_WellCol Metadata_number_of_singlecells\n",
       "1 0    C                6                12                            \n",
       "2 1    C                6                12                            \n",
       "3 2    C                6                12                            \n",
       "  Metadata_gene_name Metadata_genotype Metadata_ImageNumber Metadata_Plate\n",
       "1 NF1                WT                1                    1             \n",
       "2 NF1                WT                1                    1             \n",
       "3 NF1                WT                1                    1             \n",
       "  Metadata_Well Metadata_Cytoplasm_Parent_Cells ⋯\n",
       "1 C6            1                               ⋯\n",
       "2 C6            2                               ⋯\n",
       "3 C6            3                               ⋯\n",
       "  Nuclei_Texture_SumVariance_RFP_3_02_256\n",
       "1 3.1415403                              \n",
       "2 0.3159240                              \n",
       "3 0.2952335                              \n",
       "  Nuclei_Texture_SumVariance_RFP_3_03_256 Nuclei_Texture_Variance_GFP_3_00_256\n",
       "1 3.2022729                               -0.09735552                         \n",
       "2 0.2586328                               -0.08797075                         \n",
       "3 0.3831610                                0.06525064                         \n",
       "  Nuclei_Texture_Variance_GFP_3_01_256 Nuclei_Texture_Variance_GFP_3_02_256\n",
       "1 -0.096165089                         -0.09420230                         \n",
       "2 -0.069492845                         -0.06553894                         \n",
       "3  0.005549586                         -0.01521187                         \n",
       "  Nuclei_Texture_Variance_GFP_3_03_256 Nuclei_Texture_Variance_RFP_3_00_256\n",
       "1 -0.10645635                          3.3379688                           \n",
       "2 -0.09537677                          0.3147762                           \n",
       "3 -0.02908654                          0.3484921                           \n",
       "  Nuclei_Texture_Variance_RFP_3_01_256 Nuclei_Texture_Variance_RFP_3_02_256\n",
       "1 3.3505284                            3.2781681                           \n",
       "2 0.3139198                            0.3484196                           \n",
       "3 0.3339402                            0.3413119                           \n",
       "  Nuclei_Texture_Variance_RFP_3_03_256\n",
       "1 3.3103705                           \n",
       "2 0.3186928                           \n",
       "3 0.3479994                           "
      ]
     },
     "metadata": {},
     "output_type": "display_data"
    }
   ],
   "source": [
    "# Load feature data (for calculating n)\n",
    "data_dir <-file.path(\"..\", \"..\", \"..\", \"4_processing_features\", \"data\")\n",
    "cp_file <- file.path(data_dir, \"nf1_sc_norm_cellprofiler.csv.gz\")\n",
    "\n",
    "cp_df <- readr::read_csv(\n",
    "    cp_file,\n",
    "    col_types = readr::cols(\n",
    "        .default=\"d\",\n",
    "        Metadata_WellRow=\"c\",\n",
    "        Metadata_WellCol=\"c\",\n",
    "        Metadata_Well=\"c\",\n",
    "        Metadata_gene_name=\"c\",\n",
    "        Metadata_genotype=\"c\"\n",
    "    )\n",
    ")\n",
    "\n",
    "print(dim(cp_df))\n",
    "head(cp_df, 3)"
   ]
  },
  {
   "cell_type": "code",
   "execution_count": 5,
   "id": "425bb302-ea4f-46a2-919c-6bdce719663a",
   "metadata": {},
   "outputs": [
    {
     "name": "stdout",
     "output_type": "stream",
     "text": [
      "[1]   1 147\n",
      "[1] 4.793864e-05\n"
     ]
    }
   ],
   "source": [
    "# Define constants for power analysis\n",
    "n_conditions <- 2  # NF1 WT and Null\n",
    "n_samples <- dim(cp_df)[1]\n",
    "\n",
    "u <- n_conditions - 1\n",
    "v <- n_samples - u - 1\n",
    "sig_level <- 0.05 / dim(lm_results_df)[1]\n",
    "power <- 0.8\n",
    "\n",
    "print(c(u, v))\n",
    "print(sig_level)"
   ]
  },
  {
   "cell_type": "code",
   "execution_count": 6,
   "id": "2581ee6f-bc95-4b01-9ee9-5a56d1ffe0cb",
   "metadata": {},
   "outputs": [],
   "source": [
    "# Given all R2 values perform power analysis\n",
    "all_power_results <- list()\n",
    "for (cp_feature in lm_results_df$feature) {\n",
    "    # Subset to the given feature lm results\n",
    "    lm_result_subset_df <- lm_results_df %>%\n",
    "        dplyr::filter(feature == !!cp_feature)\n",
    "    \n",
    "    # Pull out the estimated R2 value\n",
    "    r2_val <- lm_result_subset_df %>% dplyr::pull(r2_score)\n",
    "    \n",
    "    # The power estimate is undefined for r2_val = 1, skip if so\n",
    "    if (r2_val == 1) {\n",
    "        all_power_results[[cp_feature]] <- c(cp_feature, u, v, sig_level, NULL, NULL)\n",
    "        next\n",
    "    }\n",
    "    \n",
    "    # Transform R2 score to F2 effect size\n",
    "    f2_val <- r2_val / (1 - r2_val)\n",
    "    \n",
    "    # Calculate power, note that v contains an estimate of sample size\n",
    "    power_result <- pwr.f2.test(u = u, v = NULL, f2 = f2_val, sig.level = sig_level, power = power)\n",
    "    \n",
    "    # Calculate required sample size from the v formula\n",
    "    estimated_sample_size <- power_result$v + u + 1\n",
    "    \n",
    "    # Save results for future visualization\n",
    "    all_power_results[[cp_feature]] <- c(cp_feature, u, v, sig_level, power, estimated_sample_size)\n",
    "    \n",
    "}"
   ]
  },
  {
   "cell_type": "code",
   "execution_count": 7,
   "id": "d666f1ea-b85c-4597-9f4a-068d74f54356",
   "metadata": {},
   "outputs": [
    {
     "name": "stderr",
     "output_type": "stream",
     "text": [
      "Warning message in (function (..., deparse.level = 1) :\n",
      "“number of columns of result is not a multiple of vector length (arg 65)”\n",
      "Warning message:\n",
      "“\u001b[1m\u001b[22mThe `x` argument of `as_tibble.matrix()` must have unique column names if `.name_repair` is omitted as of tibble 2.0.0.\n",
      "\u001b[36mℹ\u001b[39m Using compatibility `.name_repair`.”\n"
     ]
    },
    {
     "name": "stdout",
     "output_type": "stream",
     "text": [
      "[1] 1043    6\n"
     ]
    },
    {
     "data": {
      "text/html": [
       "<table class=\"dataframe\">\n",
       "<caption>A tibble: 6 × 6</caption>\n",
       "<thead>\n",
       "\t<tr><th scope=col>feature</th><th scope=col>u</th><th scope=col>v</th><th scope=col>sig_level</th><th scope=col>power</th><th scope=col>estimated_sample_size</th></tr>\n",
       "\t<tr><th scope=col>&lt;chr&gt;</th><th scope=col>&lt;chr&gt;</th><th scope=col>&lt;chr&gt;</th><th scope=col>&lt;chr&gt;</th><th scope=col>&lt;chr&gt;</th><th scope=col>&lt;chr&gt;</th></tr>\n",
       "</thead>\n",
       "<tbody>\n",
       "\t<tr><td>Cytoplasm_Number_Object_Number          </td><td>1</td><td>147</td><td>4.79386385426654e-05</td><td>0.8</td><td>62.0461740901187</td></tr>\n",
       "\t<tr><td>Cytoplasm_AreaShape_Area                </td><td>1</td><td>147</td><td>4.79386385426654e-05</td><td>0.8</td><td>60.3294079142944</td></tr>\n",
       "\t<tr><td>Cytoplasm_AreaShape_BoundingBoxArea     </td><td>1</td><td>147</td><td>4.79386385426654e-05</td><td>0.8</td><td>127.52924923438 </td></tr>\n",
       "\t<tr><td>Cytoplasm_AreaShape_BoundingBoxMaximum_X</td><td>1</td><td>147</td><td>4.79386385426654e-05</td><td>0.8</td><td>2871.24963895602</td></tr>\n",
       "\t<tr><td>Cytoplasm_AreaShape_BoundingBoxMaximum_Y</td><td>1</td><td>147</td><td>4.79386385426654e-05</td><td>0.8</td><td>14278.4471735682</td></tr>\n",
       "\t<tr><td>Cytoplasm_AreaShape_BoundingBoxMinimum_X</td><td>1</td><td>147</td><td>4.79386385426654e-05</td><td>0.8</td><td>4051.10195794731</td></tr>\n",
       "</tbody>\n",
       "</table>\n"
      ],
      "text/latex": [
       "A tibble: 6 × 6\n",
       "\\begin{tabular}{llllll}\n",
       " feature & u & v & sig\\_level & power & estimated\\_sample\\_size\\\\\n",
       " <chr> & <chr> & <chr> & <chr> & <chr> & <chr>\\\\\n",
       "\\hline\n",
       "\t Cytoplasm\\_Number\\_Object\\_Number           & 1 & 147 & 4.79386385426654e-05 & 0.8 & 62.0461740901187\\\\\n",
       "\t Cytoplasm\\_AreaShape\\_Area                 & 1 & 147 & 4.79386385426654e-05 & 0.8 & 60.3294079142944\\\\\n",
       "\t Cytoplasm\\_AreaShape\\_BoundingBoxArea      & 1 & 147 & 4.79386385426654e-05 & 0.8 & 127.52924923438 \\\\\n",
       "\t Cytoplasm\\_AreaShape\\_BoundingBoxMaximum\\_X & 1 & 147 & 4.79386385426654e-05 & 0.8 & 2871.24963895602\\\\\n",
       "\t Cytoplasm\\_AreaShape\\_BoundingBoxMaximum\\_Y & 1 & 147 & 4.79386385426654e-05 & 0.8 & 14278.4471735682\\\\\n",
       "\t Cytoplasm\\_AreaShape\\_BoundingBoxMinimum\\_X & 1 & 147 & 4.79386385426654e-05 & 0.8 & 4051.10195794731\\\\\n",
       "\\end{tabular}\n"
      ],
      "text/markdown": [
       "\n",
       "A tibble: 6 × 6\n",
       "\n",
       "| feature &lt;chr&gt; | u &lt;chr&gt; | v &lt;chr&gt; | sig_level &lt;chr&gt; | power &lt;chr&gt; | estimated_sample_size &lt;chr&gt; |\n",
       "|---|---|---|---|---|---|\n",
       "| Cytoplasm_Number_Object_Number           | 1 | 147 | 4.79386385426654e-05 | 0.8 | 62.0461740901187 |\n",
       "| Cytoplasm_AreaShape_Area                 | 1 | 147 | 4.79386385426654e-05 | 0.8 | 60.3294079142944 |\n",
       "| Cytoplasm_AreaShape_BoundingBoxArea      | 1 | 147 | 4.79386385426654e-05 | 0.8 | 127.52924923438  |\n",
       "| Cytoplasm_AreaShape_BoundingBoxMaximum_X | 1 | 147 | 4.79386385426654e-05 | 0.8 | 2871.24963895602 |\n",
       "| Cytoplasm_AreaShape_BoundingBoxMaximum_Y | 1 | 147 | 4.79386385426654e-05 | 0.8 | 14278.4471735682 |\n",
       "| Cytoplasm_AreaShape_BoundingBoxMinimum_X | 1 | 147 | 4.79386385426654e-05 | 0.8 | 4051.10195794731 |\n",
       "\n"
      ],
      "text/plain": [
       "  feature                                  u v   sig_level            power\n",
       "1 Cytoplasm_Number_Object_Number           1 147 4.79386385426654e-05 0.8  \n",
       "2 Cytoplasm_AreaShape_Area                 1 147 4.79386385426654e-05 0.8  \n",
       "3 Cytoplasm_AreaShape_BoundingBoxArea      1 147 4.79386385426654e-05 0.8  \n",
       "4 Cytoplasm_AreaShape_BoundingBoxMaximum_X 1 147 4.79386385426654e-05 0.8  \n",
       "5 Cytoplasm_AreaShape_BoundingBoxMaximum_Y 1 147 4.79386385426654e-05 0.8  \n",
       "6 Cytoplasm_AreaShape_BoundingBoxMinimum_X 1 147 4.79386385426654e-05 0.8  \n",
       "  estimated_sample_size\n",
       "1 62.0461740901187     \n",
       "2 60.3294079142944     \n",
       "3 127.52924923438      \n",
       "4 2871.24963895602     \n",
       "5 14278.4471735682     \n",
       "6 4051.10195794731     "
      ]
     },
     "metadata": {},
     "output_type": "display_data"
    }
   ],
   "source": [
    "power_results_df <- do.call(rbind, all_power_results) %>% dplyr::as_tibble()\n",
    "\n",
    "colnames(power_results_df) <- c(\"feature\", \"u\", \"v\", \"sig_level\", \"power\", \"estimated_sample_size\")\n",
    "\n",
    "# Output to file\n",
    "power_results_df %>%\n",
    "    readr::write_tsv(output_file)\n",
    "\n",
    "print(dim(power_results_df))\n",
    "head(power_results_df)"
   ]
  },
  {
   "cell_type": "markdown",
   "id": "8442d774-9fc9-43f5-90ec-7b7597b324f8",
   "metadata": {},
   "source": [
    "## Perform power analysis for DP features"
   ]
  },
  {
   "cell_type": "code",
   "execution_count": 8,
   "id": "82f1d662-26ed-4dca-8df8-b34292ab0eca",
   "metadata": {},
   "outputs": [
    {
     "name": "stdout",
     "output_type": "stream",
     "text": [
      "[1] 3832    5\n"
     ]
    },
    {
     "data": {
      "text/html": [
       "<table class=\"dataframe\">\n",
       "<caption>A tibble: 6 × 5</caption>\n",
       "<thead>\n",
       "\t<tr><th scope=col>feature</th><th scope=col>r2_score</th><th scope=col>cell_count_coef</th><th scope=col>Null_coef</th><th scope=col>WT_coef</th></tr>\n",
       "\t<tr><th scope=col>&lt;chr&gt;</th><th scope=col>&lt;dbl&gt;</th><th scope=col>&lt;dbl&gt;</th><th scope=col>&lt;dbl&gt;</th><th scope=col>&lt;dbl&gt;</th></tr>\n",
       "</thead>\n",
       "<tbody>\n",
       "\t<tr><td>efficientnet_0</td><td>0.04655088</td><td>-1.313378e-02</td><td> 0.098892191</td><td>-0.098892191</td></tr>\n",
       "\t<tr><td>efficientnet_1</td><td>0.02633479</td><td> 9.009381e-03</td><td>-0.246789424</td><td> 0.246789424</td></tr>\n",
       "\t<tr><td>efficientnet_2</td><td>0.32808305</td><td>-2.803389e-02</td><td> 0.001363537</td><td>-0.001363537</td></tr>\n",
       "\t<tr><td>efficientnet_3</td><td>0.02219074</td><td> 5.271694e-03</td><td>-0.223836924</td><td> 0.223836924</td></tr>\n",
       "\t<tr><td>efficientnet_4</td><td>0.01098208</td><td> 8.577969e-05</td><td>-0.116930972</td><td> 0.116930972</td></tr>\n",
       "\t<tr><td>efficientnet_5</td><td>0.02720802</td><td> 8.035771e-03</td><td>-0.254575592</td><td> 0.254575592</td></tr>\n",
       "</tbody>\n",
       "</table>\n"
      ],
      "text/latex": [
       "A tibble: 6 × 5\n",
       "\\begin{tabular}{lllll}\n",
       " feature & r2\\_score & cell\\_count\\_coef & Null\\_coef & WT\\_coef\\\\\n",
       " <chr> & <dbl> & <dbl> & <dbl> & <dbl>\\\\\n",
       "\\hline\n",
       "\t efficientnet\\_0 & 0.04655088 & -1.313378e-02 &  0.098892191 & -0.098892191\\\\\n",
       "\t efficientnet\\_1 & 0.02633479 &  9.009381e-03 & -0.246789424 &  0.246789424\\\\\n",
       "\t efficientnet\\_2 & 0.32808305 & -2.803389e-02 &  0.001363537 & -0.001363537\\\\\n",
       "\t efficientnet\\_3 & 0.02219074 &  5.271694e-03 & -0.223836924 &  0.223836924\\\\\n",
       "\t efficientnet\\_4 & 0.01098208 &  8.577969e-05 & -0.116930972 &  0.116930972\\\\\n",
       "\t efficientnet\\_5 & 0.02720802 &  8.035771e-03 & -0.254575592 &  0.254575592\\\\\n",
       "\\end{tabular}\n"
      ],
      "text/markdown": [
       "\n",
       "A tibble: 6 × 5\n",
       "\n",
       "| feature &lt;chr&gt; | r2_score &lt;dbl&gt; | cell_count_coef &lt;dbl&gt; | Null_coef &lt;dbl&gt; | WT_coef &lt;dbl&gt; |\n",
       "|---|---|---|---|---|\n",
       "| efficientnet_0 | 0.04655088 | -1.313378e-02 |  0.098892191 | -0.098892191 |\n",
       "| efficientnet_1 | 0.02633479 |  9.009381e-03 | -0.246789424 |  0.246789424 |\n",
       "| efficientnet_2 | 0.32808305 | -2.803389e-02 |  0.001363537 | -0.001363537 |\n",
       "| efficientnet_3 | 0.02219074 |  5.271694e-03 | -0.223836924 |  0.223836924 |\n",
       "| efficientnet_4 | 0.01098208 |  8.577969e-05 | -0.116930972 |  0.116930972 |\n",
       "| efficientnet_5 | 0.02720802 |  8.035771e-03 | -0.254575592 |  0.254575592 |\n",
       "\n"
      ],
      "text/plain": [
       "  feature        r2_score   cell_count_coef Null_coef    WT_coef     \n",
       "1 efficientnet_0 0.04655088 -1.313378e-02    0.098892191 -0.098892191\n",
       "2 efficientnet_1 0.02633479  9.009381e-03   -0.246789424  0.246789424\n",
       "3 efficientnet_2 0.32808305 -2.803389e-02    0.001363537 -0.001363537\n",
       "4 efficientnet_3 0.02219074  5.271694e-03   -0.223836924  0.223836924\n",
       "5 efficientnet_4 0.01098208  8.577969e-05   -0.116930972  0.116930972\n",
       "6 efficientnet_5 0.02720802  8.035771e-03   -0.254575592  0.254575592"
      ]
     },
     "metadata": {},
     "output_type": "display_data"
    }
   ],
   "source": [
    "# Load data\n",
    "lm_results_file <- file.path(\"results\", \"linear_model_dp_features.tsv\")\n",
    "lm_results_df <- readr::read_tsv(\n",
    "    lm_results_file,\n",
    "    col_types = readr::cols(.default=\"d\", feature=\"c\")\n",
    ")\n",
    "\n",
    "print(dim(lm_results_df))\n",
    "head(lm_results_df)"
   ]
  },
  {
   "cell_type": "code",
   "execution_count": 9,
   "id": "47400246-3fac-48fa-81cf-029de0b104fc",
   "metadata": {},
   "outputs": [
    {
     "name": "stdout",
     "output_type": "stream",
     "text": [
      "[1]  256 3852\n"
     ]
    },
    {
     "data": {
      "text/html": [
       "<table class=\"dataframe\">\n",
       "<caption>A tibble: 3 × 3852</caption>\n",
       "<thead>\n",
       "\t<tr><th scope=col>Location_Center_X</th><th scope=col>Location_Center_Y</th><th scope=col>Metadata_Plate</th><th scope=col>Metadata_Well</th><th scope=col>Metadata_Site</th><th scope=col>Metadata_Plate_Map_Name</th><th scope=col>Metadata_DNA</th><th scope=col>Metadata_ER</th><th scope=col>Metadata_Actin</th><th scope=col>Metadata_Genotype</th><th scope=col>⋯</th><th scope=col>efficientnet_3830</th><th scope=col>efficientnet_3831</th><th scope=col>efficientnet_3832</th><th scope=col>efficientnet_3833</th><th scope=col>efficientnet_3834</th><th scope=col>efficientnet_3835</th><th scope=col>efficientnet_3836</th><th scope=col>efficientnet_3837</th><th scope=col>efficientnet_3838</th><th scope=col>efficientnet_3839</th></tr>\n",
       "\t<tr><th scope=col>&lt;dbl&gt;</th><th scope=col>&lt;dbl&gt;</th><th scope=col>&lt;chr&gt;</th><th scope=col>&lt;chr&gt;</th><th scope=col>&lt;chr&gt;</th><th scope=col>&lt;chr&gt;</th><th scope=col>&lt;chr&gt;</th><th scope=col>&lt;chr&gt;</th><th scope=col>&lt;chr&gt;</th><th scope=col>&lt;chr&gt;</th><th scope=col>⋯</th><th scope=col>&lt;dbl&gt;</th><th scope=col>&lt;dbl&gt;</th><th scope=col>&lt;dbl&gt;</th><th scope=col>&lt;dbl&gt;</th><th scope=col>&lt;dbl&gt;</th><th scope=col>&lt;dbl&gt;</th><th scope=col>&lt;dbl&gt;</th><th scope=col>&lt;dbl&gt;</th><th scope=col>&lt;dbl&gt;</th><th scope=col>&lt;dbl&gt;</th></tr>\n",
       "</thead>\n",
       "<tbody>\n",
       "\t<tr><td>650.4225</td><td>736.7067</td><td>1</td><td>D6</td><td>3</td><td>1_D6_3</td><td>../../../../1_preprocessing_data/Corrected_Images/D6_01_1_3_DAPI_001_IllumCorrect.tif</td><td>../../../../1_preprocessing_data/Corrected_Images/D6_01_2_3_GFP_001_IllumCorrect.tif</td><td>../../../../1_preprocessing_data/Corrected_Images/D6_01_3_3_RFP_001_IllumCorrect.tif</td><td>WT</td><td>⋯</td><td>-0.03401407</td><td> 0.8595177</td><td>-0.02571327</td><td>-0.7295710</td><td> 0.2672313</td><td>-0.8473657</td><td>-1.09008160</td><td> 0.5667855</td><td>-0.02436295</td><td> 0.2304633</td></tr>\n",
       "\t<tr><td>949.1827</td><td>256.7347</td><td>1</td><td>F6</td><td>2</td><td>1_F6_2</td><td>../../../../1_preprocessing_data/Corrected_Images/F6_01_1_2_DAPI_001_IllumCorrect.tif</td><td>../../../../1_preprocessing_data/Corrected_Images/F6_01_2_2_GFP_001_IllumCorrect.tif</td><td>../../../../1_preprocessing_data/Corrected_Images/F6_01_3_2_RFP_001_IllumCorrect.tif</td><td>WT</td><td>⋯</td><td>-0.02110868</td><td> 0.1855114</td><td>-0.61222690</td><td> 2.9258058</td><td>-0.9277611</td><td>-0.3043499</td><td>-0.03106468</td><td> 0.6265455</td><td>-0.40805978</td><td>-1.2116158</td></tr>\n",
       "\t<tr><td>454.4601</td><td>265.7970</td><td>1</td><td>F6</td><td>2</td><td>1_F6_2</td><td>../../../../1_preprocessing_data/Corrected_Images/F6_01_1_2_DAPI_001_IllumCorrect.tif</td><td>../../../../1_preprocessing_data/Corrected_Images/F6_01_2_2_GFP_001_IllumCorrect.tif</td><td>../../../../1_preprocessing_data/Corrected_Images/F6_01_3_2_RFP_001_IllumCorrect.tif</td><td>WT</td><td>⋯</td><td>-0.15838182</td><td>-0.8102113</td><td>-0.72087693</td><td> 0.1278688</td><td> 1.1994534</td><td> 1.9774389</td><td>-0.84440530</td><td>-0.2991374</td><td>-0.77516640</td><td>-0.2921428</td></tr>\n",
       "</tbody>\n",
       "</table>\n"
      ],
      "text/latex": [
       "A tibble: 3 × 3852\n",
       "\\begin{tabular}{lllllllllllllllllllll}\n",
       " Location\\_Center\\_X & Location\\_Center\\_Y & Metadata\\_Plate & Metadata\\_Well & Metadata\\_Site & Metadata\\_Plate\\_Map\\_Name & Metadata\\_DNA & Metadata\\_ER & Metadata\\_Actin & Metadata\\_Genotype & ⋯ & efficientnet\\_3830 & efficientnet\\_3831 & efficientnet\\_3832 & efficientnet\\_3833 & efficientnet\\_3834 & efficientnet\\_3835 & efficientnet\\_3836 & efficientnet\\_3837 & efficientnet\\_3838 & efficientnet\\_3839\\\\\n",
       " <dbl> & <dbl> & <chr> & <chr> & <chr> & <chr> & <chr> & <chr> & <chr> & <chr> & ⋯ & <dbl> & <dbl> & <dbl> & <dbl> & <dbl> & <dbl> & <dbl> & <dbl> & <dbl> & <dbl>\\\\\n",
       "\\hline\n",
       "\t 650.4225 & 736.7067 & 1 & D6 & 3 & 1\\_D6\\_3 & ../../../../1\\_preprocessing\\_data/Corrected\\_Images/D6\\_01\\_1\\_3\\_DAPI\\_001\\_IllumCorrect.tif & ../../../../1\\_preprocessing\\_data/Corrected\\_Images/D6\\_01\\_2\\_3\\_GFP\\_001\\_IllumCorrect.tif & ../../../../1\\_preprocessing\\_data/Corrected\\_Images/D6\\_01\\_3\\_3\\_RFP\\_001\\_IllumCorrect.tif & WT & ⋯ & -0.03401407 &  0.8595177 & -0.02571327 & -0.7295710 &  0.2672313 & -0.8473657 & -1.09008160 &  0.5667855 & -0.02436295 &  0.2304633\\\\\n",
       "\t 949.1827 & 256.7347 & 1 & F6 & 2 & 1\\_F6\\_2 & ../../../../1\\_preprocessing\\_data/Corrected\\_Images/F6\\_01\\_1\\_2\\_DAPI\\_001\\_IllumCorrect.tif & ../../../../1\\_preprocessing\\_data/Corrected\\_Images/F6\\_01\\_2\\_2\\_GFP\\_001\\_IllumCorrect.tif & ../../../../1\\_preprocessing\\_data/Corrected\\_Images/F6\\_01\\_3\\_2\\_RFP\\_001\\_IllumCorrect.tif & WT & ⋯ & -0.02110868 &  0.1855114 & -0.61222690 &  2.9258058 & -0.9277611 & -0.3043499 & -0.03106468 &  0.6265455 & -0.40805978 & -1.2116158\\\\\n",
       "\t 454.4601 & 265.7970 & 1 & F6 & 2 & 1\\_F6\\_2 & ../../../../1\\_preprocessing\\_data/Corrected\\_Images/F6\\_01\\_1\\_2\\_DAPI\\_001\\_IllumCorrect.tif & ../../../../1\\_preprocessing\\_data/Corrected\\_Images/F6\\_01\\_2\\_2\\_GFP\\_001\\_IllumCorrect.tif & ../../../../1\\_preprocessing\\_data/Corrected\\_Images/F6\\_01\\_3\\_2\\_RFP\\_001\\_IllumCorrect.tif & WT & ⋯ & -0.15838182 & -0.8102113 & -0.72087693 &  0.1278688 &  1.1994534 &  1.9774389 & -0.84440530 & -0.2991374 & -0.77516640 & -0.2921428\\\\\n",
       "\\end{tabular}\n"
      ],
      "text/markdown": [
       "\n",
       "A tibble: 3 × 3852\n",
       "\n",
       "| Location_Center_X &lt;dbl&gt; | Location_Center_Y &lt;dbl&gt; | Metadata_Plate &lt;chr&gt; | Metadata_Well &lt;chr&gt; | Metadata_Site &lt;chr&gt; | Metadata_Plate_Map_Name &lt;chr&gt; | Metadata_DNA &lt;chr&gt; | Metadata_ER &lt;chr&gt; | Metadata_Actin &lt;chr&gt; | Metadata_Genotype &lt;chr&gt; | ⋯ ⋯ | efficientnet_3830 &lt;dbl&gt; | efficientnet_3831 &lt;dbl&gt; | efficientnet_3832 &lt;dbl&gt; | efficientnet_3833 &lt;dbl&gt; | efficientnet_3834 &lt;dbl&gt; | efficientnet_3835 &lt;dbl&gt; | efficientnet_3836 &lt;dbl&gt; | efficientnet_3837 &lt;dbl&gt; | efficientnet_3838 &lt;dbl&gt; | efficientnet_3839 &lt;dbl&gt; |\n",
       "|---|---|---|---|---|---|---|---|---|---|---|---|---|---|---|---|---|---|---|---|---|\n",
       "| 650.4225 | 736.7067 | 1 | D6 | 3 | 1_D6_3 | ../../../../1_preprocessing_data/Corrected_Images/D6_01_1_3_DAPI_001_IllumCorrect.tif | ../../../../1_preprocessing_data/Corrected_Images/D6_01_2_3_GFP_001_IllumCorrect.tif | ../../../../1_preprocessing_data/Corrected_Images/D6_01_3_3_RFP_001_IllumCorrect.tif | WT | ⋯ | -0.03401407 |  0.8595177 | -0.02571327 | -0.7295710 |  0.2672313 | -0.8473657 | -1.09008160 |  0.5667855 | -0.02436295 |  0.2304633 |\n",
       "| 949.1827 | 256.7347 | 1 | F6 | 2 | 1_F6_2 | ../../../../1_preprocessing_data/Corrected_Images/F6_01_1_2_DAPI_001_IllumCorrect.tif | ../../../../1_preprocessing_data/Corrected_Images/F6_01_2_2_GFP_001_IllumCorrect.tif | ../../../../1_preprocessing_data/Corrected_Images/F6_01_3_2_RFP_001_IllumCorrect.tif | WT | ⋯ | -0.02110868 |  0.1855114 | -0.61222690 |  2.9258058 | -0.9277611 | -0.3043499 | -0.03106468 |  0.6265455 | -0.40805978 | -1.2116158 |\n",
       "| 454.4601 | 265.7970 | 1 | F6 | 2 | 1_F6_2 | ../../../../1_preprocessing_data/Corrected_Images/F6_01_1_2_DAPI_001_IllumCorrect.tif | ../../../../1_preprocessing_data/Corrected_Images/F6_01_2_2_GFP_001_IllumCorrect.tif | ../../../../1_preprocessing_data/Corrected_Images/F6_01_3_2_RFP_001_IllumCorrect.tif | WT | ⋯ | -0.15838182 | -0.8102113 | -0.72087693 |  0.1278688 |  1.1994534 |  1.9774389 | -0.84440530 | -0.2991374 | -0.77516640 | -0.2921428 |\n",
       "\n"
      ],
      "text/plain": [
       "  Location_Center_X Location_Center_Y Metadata_Plate Metadata_Well\n",
       "1 650.4225          736.7067          1              D6           \n",
       "2 949.1827          256.7347          1              F6           \n",
       "3 454.4601          265.7970          1              F6           \n",
       "  Metadata_Site Metadata_Plate_Map_Name\n",
       "1 3             1_D6_3                 \n",
       "2 2             1_F6_2                 \n",
       "3 2             1_F6_2                 \n",
       "  Metadata_DNA                                                                         \n",
       "1 ../../../../1_preprocessing_data/Corrected_Images/D6_01_1_3_DAPI_001_IllumCorrect.tif\n",
       "2 ../../../../1_preprocessing_data/Corrected_Images/F6_01_1_2_DAPI_001_IllumCorrect.tif\n",
       "3 ../../../../1_preprocessing_data/Corrected_Images/F6_01_1_2_DAPI_001_IllumCorrect.tif\n",
       "  Metadata_ER                                                                         \n",
       "1 ../../../../1_preprocessing_data/Corrected_Images/D6_01_2_3_GFP_001_IllumCorrect.tif\n",
       "2 ../../../../1_preprocessing_data/Corrected_Images/F6_01_2_2_GFP_001_IllumCorrect.tif\n",
       "3 ../../../../1_preprocessing_data/Corrected_Images/F6_01_2_2_GFP_001_IllumCorrect.tif\n",
       "  Metadata_Actin                                                                      \n",
       "1 ../../../../1_preprocessing_data/Corrected_Images/D6_01_3_3_RFP_001_IllumCorrect.tif\n",
       "2 ../../../../1_preprocessing_data/Corrected_Images/F6_01_3_2_RFP_001_IllumCorrect.tif\n",
       "3 ../../../../1_preprocessing_data/Corrected_Images/F6_01_3_2_RFP_001_IllumCorrect.tif\n",
       "  Metadata_Genotype ⋯ efficientnet_3830 efficientnet_3831 efficientnet_3832\n",
       "1 WT                ⋯ -0.03401407        0.8595177        -0.02571327      \n",
       "2 WT                ⋯ -0.02110868        0.1855114        -0.61222690      \n",
       "3 WT                ⋯ -0.15838182       -0.8102113        -0.72087693      \n",
       "  efficientnet_3833 efficientnet_3834 efficientnet_3835 efficientnet_3836\n",
       "1 -0.7295710         0.2672313        -0.8473657        -1.09008160      \n",
       "2  2.9258058        -0.9277611        -0.3043499        -0.03106468      \n",
       "3  0.1278688         1.1994534         1.9774389        -0.84440530      \n",
       "  efficientnet_3837 efficientnet_3838 efficientnet_3839\n",
       "1  0.5667855        -0.02436295        0.2304633       \n",
       "2  0.6265455        -0.40805978       -1.2116158       \n",
       "3 -0.2991374        -0.77516640       -0.2921428       "
      ]
     },
     "metadata": {},
     "output_type": "display_data"
    }
   ],
   "source": [
    "# Load feature data (for calculating n)\n",
    "data_dir <-file.path(\"..\", \"..\", \"..\", \"4_processing_features\", \"data\")\n",
    "dp_file <- file.path(data_dir, \"nf1_sc_norm_deepprofiler_cyto.csv.gz\")\n",
    "\n",
    "dp_df <- readr::read_csv(\n",
    "    dp_file,\n",
    "    col_types = readr::cols(\n",
    "        .default=\"d\",\n",
    "        Metadata_Plate=\"c\",\n",
    "        Metadata_Well=\"c\",\n",
    "        Metadata_Site=\"c\",\n",
    "        Metadata_Plate_Map_Name=\"c\",\n",
    "        Metadata_DNA=\"c\",\n",
    "        Metadata_ER=\"c\",\n",
    "        Metadata_Actin=\"c\",\n",
    "        Metadata_Genotype=\"c\",\n",
    "        Metadata_Genotype_Replicate=\"c\",\n",
    "        Metadata_Model=\"c\"\n",
    "    )\n",
    ")\n",
    "print(dim(dp_df))\n",
    "head(dp_df, 3)"
   ]
  },
  {
   "cell_type": "code",
   "execution_count": 10,
   "id": "d35440ab-817f-402b-8c40-fe7e9b535baf",
   "metadata": {},
   "outputs": [
    {
     "name": "stdout",
     "output_type": "stream",
     "text": [
      "[1]   1 254\n",
      "[1] 1.304802e-05\n"
     ]
    }
   ],
   "source": [
    "# Define constants for power analysis (n_samples is different from CP features)\n",
    "n_conditions <- 2  # NF1 WT and Null\n",
    "n_samples <- dim(dp_df)[1]\n",
    "\n",
    "u <- n_conditions - 1\n",
    "v <- n_samples - u - 1\n",
    "sig_level <- 0.05 / dim(lm_results_df)[1]\n",
    "power <- 0.8\n",
    "\n",
    "print(c(u, v))\n",
    "print(sig_level)"
   ]
  },
  {
   "cell_type": "code",
   "execution_count": 11,
   "id": "098c55b4-fda1-4800-b1d9-4d419f0433ee",
   "metadata": {},
   "outputs": [],
   "source": [
    "# Given all R2 values perform power analysis\n",
    "all_power_results <- list()\n",
    "for (dp_feature in lm_results_df$feature) {\n",
    "    # Subset to the given feature lm results\n",
    "    lm_result_subset_df <- lm_results_df %>%\n",
    "        dplyr::filter(feature == !!dp_feature)\n",
    "    \n",
    "    # Pull out the estimated R2 value\n",
    "    r2_val <- lm_result_subset_df %>% dplyr::pull(r2_score)\n",
    "    \n",
    "    # The power estimate is undefined for r2_val = 1, skip if so\n",
    "    if (r2_val == 1) {\n",
    "        all_power_results[[dp_feature]] <- c(dp_feature, u, v, sig_level, NULL, NULL)\n",
    "        next\n",
    "    }\n",
    "    \n",
    "    # Transform R2 score to F2 effect size\n",
    "    f2_val <- r2_val / (1 - r2_val)\n",
    "    \n",
    "    # Calculate power, note that v contains an estimate of sample size\n",
    "    power_result <- pwr.f2.test(u = u, v = NULL, f2 = f2_val, sig.level = sig_level, power = power)\n",
    "    \n",
    "    # Calculate required sample size from the v formula\n",
    "    estimated_sample_size <- power_result$v + u + 1\n",
    "    \n",
    "    # Save results for future visualization\n",
    "    all_power_results[[dp_feature]] <- c(dp_feature, u, v, sig_level, power, estimated_sample_size)\n",
    "    \n",
    "}"
   ]
  },
  {
   "cell_type": "code",
   "execution_count": 12,
   "id": "64292ff0-d62d-46d7-b53e-b8dd48b2ea16",
   "metadata": {},
   "outputs": [
    {
     "name": "stdout",
     "output_type": "stream",
     "text": [
      "[1] 3832    6\n"
     ]
    },
    {
     "data": {
      "text/html": [
       "<table class=\"dataframe\">\n",
       "<caption>A tibble: 6 × 6</caption>\n",
       "<thead>\n",
       "\t<tr><th scope=col>feature</th><th scope=col>u</th><th scope=col>v</th><th scope=col>sig_level</th><th scope=col>power</th><th scope=col>estimated_sample_size</th></tr>\n",
       "\t<tr><th scope=col>&lt;chr&gt;</th><th scope=col>&lt;chr&gt;</th><th scope=col>&lt;chr&gt;</th><th scope=col>&lt;chr&gt;</th><th scope=col>&lt;chr&gt;</th><th scope=col>&lt;chr&gt;</th></tr>\n",
       "</thead>\n",
       "<tbody>\n",
       "\t<tr><td>efficientnet_0</td><td>1</td><td>254</td><td>1.30480167014614e-05</td><td>0.8</td><td>563.521954130131</td></tr>\n",
       "\t<tr><td>efficientnet_1</td><td>1</td><td>254</td><td>1.30480167014614e-05</td><td>0.8</td><td>1009.59107700252</td></tr>\n",
       "\t<tr><td>efficientnet_2</td><td>1</td><td>254</td><td>1.30480167014614e-05</td><td>0.8</td><td>64.8259187122834</td></tr>\n",
       "\t<tr><td>efficientnet_3</td><td>1</td><td>254</td><td>1.30480167014614e-05</td><td>0.8</td><td>1201.40694229486</td></tr>\n",
       "\t<tr><td>efficientnet_4</td><td>1</td><td>254</td><td>1.30480167014614e-05</td><td>0.8</td><td>2445.51410341455</td></tr>\n",
       "\t<tr><td>efficientnet_5</td><td>1</td><td>254</td><td>1.30480167014614e-05</td><td>0.8</td><td>976.625087249966</td></tr>\n",
       "</tbody>\n",
       "</table>\n"
      ],
      "text/latex": [
       "A tibble: 6 × 6\n",
       "\\begin{tabular}{llllll}\n",
       " feature & u & v & sig\\_level & power & estimated\\_sample\\_size\\\\\n",
       " <chr> & <chr> & <chr> & <chr> & <chr> & <chr>\\\\\n",
       "\\hline\n",
       "\t efficientnet\\_0 & 1 & 254 & 1.30480167014614e-05 & 0.8 & 563.521954130131\\\\\n",
       "\t efficientnet\\_1 & 1 & 254 & 1.30480167014614e-05 & 0.8 & 1009.59107700252\\\\\n",
       "\t efficientnet\\_2 & 1 & 254 & 1.30480167014614e-05 & 0.8 & 64.8259187122834\\\\\n",
       "\t efficientnet\\_3 & 1 & 254 & 1.30480167014614e-05 & 0.8 & 1201.40694229486\\\\\n",
       "\t efficientnet\\_4 & 1 & 254 & 1.30480167014614e-05 & 0.8 & 2445.51410341455\\\\\n",
       "\t efficientnet\\_5 & 1 & 254 & 1.30480167014614e-05 & 0.8 & 976.625087249966\\\\\n",
       "\\end{tabular}\n"
      ],
      "text/markdown": [
       "\n",
       "A tibble: 6 × 6\n",
       "\n",
       "| feature &lt;chr&gt; | u &lt;chr&gt; | v &lt;chr&gt; | sig_level &lt;chr&gt; | power &lt;chr&gt; | estimated_sample_size &lt;chr&gt; |\n",
       "|---|---|---|---|---|---|\n",
       "| efficientnet_0 | 1 | 254 | 1.30480167014614e-05 | 0.8 | 563.521954130131 |\n",
       "| efficientnet_1 | 1 | 254 | 1.30480167014614e-05 | 0.8 | 1009.59107700252 |\n",
       "| efficientnet_2 | 1 | 254 | 1.30480167014614e-05 | 0.8 | 64.8259187122834 |\n",
       "| efficientnet_3 | 1 | 254 | 1.30480167014614e-05 | 0.8 | 1201.40694229486 |\n",
       "| efficientnet_4 | 1 | 254 | 1.30480167014614e-05 | 0.8 | 2445.51410341455 |\n",
       "| efficientnet_5 | 1 | 254 | 1.30480167014614e-05 | 0.8 | 976.625087249966 |\n",
       "\n"
      ],
      "text/plain": [
       "  feature        u v   sig_level            power estimated_sample_size\n",
       "1 efficientnet_0 1 254 1.30480167014614e-05 0.8   563.521954130131     \n",
       "2 efficientnet_1 1 254 1.30480167014614e-05 0.8   1009.59107700252     \n",
       "3 efficientnet_2 1 254 1.30480167014614e-05 0.8   64.8259187122834     \n",
       "4 efficientnet_3 1 254 1.30480167014614e-05 0.8   1201.40694229486     \n",
       "5 efficientnet_4 1 254 1.30480167014614e-05 0.8   2445.51410341455     \n",
       "6 efficientnet_5 1 254 1.30480167014614e-05 0.8   976.625087249966     "
      ]
     },
     "metadata": {},
     "output_type": "display_data"
    }
   ],
   "source": [
    "power_results_df <- do.call(rbind, all_power_results) %>% dplyr::as_tibble()\n",
    "\n",
    "colnames(power_results_df) <- c(\"feature\", \"u\", \"v\", \"sig_level\", \"power\", \"estimated_sample_size\")\n",
    "\n",
    "# Output to file\n",
    "power_results_df %>%\n",
    "    readr::write_tsv(output_dp_file)\n",
    "\n",
    "print(dim(power_results_df))\n",
    "head(power_results_df)"
   ]
  }
 ],
 "metadata": {
  "kernelspec": {
   "display_name": "R [conda env:nf1_figures] *",
   "language": "R",
   "name": "conda-env-nf1_figures-r"
  },
  "language_info": {
   "codemirror_mode": "r",
   "file_extension": ".r",
   "mimetype": "text/x-r-source",
   "name": "R",
   "pygments_lexer": "r",
   "version": "4.2.2"
  }
 },
 "nbformat": 4,
 "nbformat_minor": 5
}
