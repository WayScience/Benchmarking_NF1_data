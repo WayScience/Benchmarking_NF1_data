{
 "cells": [
  {
   "cell_type": "markdown",
   "metadata": {},
   "source": [
    "# Correct Second Plate NF1 Images"
   ]
  },
  {
   "cell_type": "code",
   "execution_count": 1,
   "metadata": {},
   "outputs": [],
   "source": [
    "import pathlib\n",
    "import correctionutils as correct"
   ]
  },
  {
   "cell_type": "markdown",
   "metadata": {},
   "source": [
    "## Correct Second Plate"
   ]
  },
  {
   "cell_type": "markdown",
   "metadata": {},
   "source": [
    "### Set paths"
   ]
  },
  {
   "cell_type": "code",
   "execution_count": 2,
   "metadata": {},
   "outputs": [],
   "source": [
    "path_to_pipeline = \"convert_crop_NF1_images.cppipe\"\n",
    "path_to_output = \"NF1_test\"\n",
    "path_to_images = \"NF1_Second_Plate\""
   ]
  },
  {
   "cell_type": "markdown",
   "metadata": {},
   "source": [
    "### Run CellProfiler to convert and crop images and reformat the metadata"
   ]
  },
  {
   "cell_type": "code",
   "execution_count": 3,
   "metadata": {},
   "outputs": [
    {
     "name": "stderr",
     "output_type": "stream",
     "text": [
      "WARNING:root:This plate has already been processed by CellProfiler!\n"
     ]
    }
   ],
   "source": [
    "correct.correct_images(path_to_pipeline, path_to_output, path_to_images)"
   ]
  },
  {
   "cell_type": "code",
   "execution_count": 4,
   "metadata": {},
   "outputs": [
    {
     "name": "stderr",
     "output_type": "stream",
     "text": [
      "WARNING:root:This plate has already been reordered!\n",
      "ERROR:root:The length is 6. Please review your images\n",
      "INFO:root:Images were renamed\n"
     ]
    }
   ],
   "source": [
    "images_path = pathlib.Path(path_to_output)\n",
    "# output_folder_name = 'NF1_Second_Plate_Corrected'\n",
    "output_folder_name = \"NF1_test\"\n",
    "\n",
    "correct.rename_images(images_path, output_folder_name)"
   ]
  }
 ],
 "metadata": {
  "kernelspec": {
   "display_name": "Python 3.8.15 ('download-NF1-data')",
   "language": "python",
   "name": "python3"
  },
  "language_info": {
   "codemirror_mode": {
    "name": "ipython",
    "version": 3
   },
   "file_extension": ".py",
   "mimetype": "text/x-python",
   "name": "python",
   "nbconvert_exporter": "python",
   "pygments_lexer": "ipython3",
   "version": "3.8.15"
  },
  "orig_nbformat": 4,
  "vscode": {
   "interpreter": {
    "hash": "6f614b090b7dcc5417cc8c5d447b53061ddddd5f43fe38156693013cfafb65c9"
   }
  }
 },
 "nbformat": 4,
 "nbformat_minor": 2
}
