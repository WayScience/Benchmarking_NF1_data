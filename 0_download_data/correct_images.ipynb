{
 "cells": [
  {
   "cell_type": "markdown",
   "metadata": {},
   "source": [
    "# Correct Second Plate NF1 Images"
   ]
  },
  {
   "cell_type": "code",
   "execution_count": 1,
   "metadata": {},
   "outputs": [],
   "source": [
    "import pathlib\n",
    "import importlib\n",
    "correct = importlib.import_module(\"correctionutils\")\n"
   ]
  },
  {
   "cell_type": "markdown",
   "metadata": {},
   "source": [
    "## Correct Second Plate"
   ]
  },
  {
   "cell_type": "markdown",
   "metadata": {},
   "source": [
    "### Set paths"
   ]
  },
  {
   "cell_type": "code",
   "execution_count": 2,
   "metadata": {},
   "outputs": [],
   "source": [
    "path_to_pipeline = \"/home/jenna/NF1_SchwannCell_data/0_download_data/convert_crop_NF1_images.cppipe\"\n",
    "path_to_output = \"/home/jenna/NF1_SchwannCell_data/0_download_data/NF1_Second_Plate_Corrected\"\n",
    "path_to_images = \"/home/jenna/NF1_SchwannCell_data/0_download_data/NF1_Second_Plate\"\n",
    "\n",
    "output_folder_name = \"NF1_Second_Plate_Corrected\""
   ]
  },
  {
   "cell_type": "markdown",
   "metadata": {},
   "source": [
    "### Run CellProfiler to convert and crop images and reformat the metadata"
   ]
  },
  {
   "cell_type": "code",
   "execution_count": 3,
   "metadata": {},
   "outputs": [
    {
     "name": "stdout",
     "output_type": "stream",
     "text": [
      "This plate has already been ran through CellProfiler!\n"
     ]
    }
   ],
   "source": [
    "correct.correct_images(path_to_pipeline, path_to_output, path_to_images)"
   ]
  },
  {
   "cell_type": "code",
   "execution_count": 4,
   "metadata": {},
   "outputs": [
    {
     "name": "stdout",
     "output_type": "stream",
     "text": [
      "This plate has already been reordered!\n",
      "The metadata for this plate has already been corrected!\n"
     ]
    }
   ],
   "source": [
    "images_path = pathlib.Path(\"/home/jenna/NF1_SchwannCell_data/0_download_data/NF1_Second_Plate_Corrected\")\n",
    "output_folder_name = 'NF1_Second_Plate_Corrected'\n",
    "\n",
    "correct.rename_images(images_path, output_folder_name)"
   ]
  }
 ],
 "metadata": {
  "kernelspec": {
   "display_name": "Python 3.8.15 ('download-NF1-data')",
   "language": "python",
   "name": "python3"
  },
  "language_info": {
   "codemirror_mode": {
    "name": "ipython",
    "version": 3
   },
   "file_extension": ".py",
   "mimetype": "text/x-python",
   "name": "python",
   "nbconvert_exporter": "python",
   "pygments_lexer": "ipython3",
   "version": "3.8.15"
  },
  "orig_nbformat": 4,
  "vscode": {
   "interpreter": {
    "hash": "6f614b090b7dcc5417cc8c5d447b53061ddddd5f43fe38156693013cfafb65c9"
   }
  }
 },
 "nbformat": 4,
 "nbformat_minor": 2
}
