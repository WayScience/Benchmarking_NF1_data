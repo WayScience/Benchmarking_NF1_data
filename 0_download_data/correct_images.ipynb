{
 "cells": [
  {
   "cell_type": "markdown",
   "metadata": {},
   "source": [
    "# Correct Second Plate NF1 Images"
   ]
  },
  {
   "cell_type": "code",
   "execution_count": 1,
   "metadata": {},
   "outputs": [],
   "source": [
    "import importlib\n",
    "correct = importlib.import_module(\"correctionutils\")\n"
   ]
  },
  {
   "cell_type": "markdown",
   "metadata": {},
   "source": [
    "## Correct Second Plate"
   ]
  },
  {
   "cell_type": "markdown",
   "metadata": {},
   "source": [
    "### Set paths"
   ]
  },
  {
   "cell_type": "code",
   "execution_count": 2,
   "metadata": {},
   "outputs": [],
   "source": [
    "path_to_pipeline = \"/home/jenna/NF1_SchwannCell_data/0_download_data/convert_crop_NF1_images.cppipe\"\n",
    "path_to_output = \"/home/jenna/NF1_SchwannCell_data/0_download_data/NF1_Second_Plate_Corrected\"\n",
    "path_to_images = \"/home/jenna/NF1_SchwannCell_data/0_download_data/NF1_Second_Plate\"\n",
    "\n",
    "output_folder_name = \"NF1_Second_Plate_Corrected\""
   ]
  },
  {
   "cell_type": "markdown",
   "metadata": {},
   "source": [
    "### Run CellProfiler to convert and crop images and reformat the metadata"
   ]
  },
  {
   "cell_type": "code",
   "execution_count": 3,
   "metadata": {},
   "outputs": [
    {
     "ename": "AttributeError",
     "evalue": "module 'correctionutils' has no attribute 'correct_images'",
     "output_type": "error",
     "traceback": [
      "\u001b[0;31m---------------------------------------------------------------------------\u001b[0m",
      "\u001b[0;31mAttributeError\u001b[0m                            Traceback (most recent call last)",
      "Cell \u001b[0;32mIn[3], line 1\u001b[0m\n\u001b[0;32m----> 1\u001b[0m correct\u001b[39m.\u001b[39;49mcorrect_images(path_to_pipeline, path_to_output, path_to_images, output_folder_name)\n",
      "\u001b[0;31mAttributeError\u001b[0m: module 'correctionutils' has no attribute 'correct_images'"
     ]
    }
   ],
   "source": [
    "correct.correct_images(path_to_pipeline, path_to_output, path_to_images, output_folder_name)"
   ]
  }
 ],
 "metadata": {
  "kernelspec": {
   "display_name": "Python 3.8.15 ('download-NF1-data')",
   "language": "python",
   "name": "python3"
  },
  "language_info": {
   "codemirror_mode": {
    "name": "ipython",
    "version": 3
   },
   "file_extension": ".py",
   "mimetype": "text/x-python",
   "name": "python",
   "nbconvert_exporter": "python",
   "pygments_lexer": "ipython3",
   "version": "3.8.15"
  },
  "orig_nbformat": 4,
  "vscode": {
   "interpreter": {
    "hash": "6f614b090b7dcc5417cc8c5d447b53061ddddd5f43fe38156693013cfafb65c9"
   }
  }
 },
 "nbformat": 4,
 "nbformat_minor": 2
}
